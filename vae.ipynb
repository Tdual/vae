{
 "cells": [
  {
   "cell_type": "code",
   "execution_count": null,
   "metadata": {
    "collapsed": true
   },
   "outputs": [],
   "source": [
    "import tensorflow as tf"
   ]
  },
  {
   "cell_type": "code",
   "execution_count": null,
   "metadata": {
    "collapsed": true
   },
   "outputs": [],
   "source": [
    "def weight_variable(shape):\n",
    "    return tf.Variable(tf.random_normal(shape, mean=0.0, stddev=0.01))\n",
    "\n",
    "def bias_variable(shape):\n",
    "    return tf.Variable(tf.random_normal(shape, mean=0.0, stddev=0.01))\n",
    "\n",
    "def layer(x, shape, activation):\n",
    "    W = weight_variable(shape)\n",
    "    b = bias_variable([shape[1]])\n",
    "    return activation(tf.matmul(x, W) + b)"
   ]
  },
  {
   "cell_type": "code",
   "execution_count": null,
   "metadata": {
    "collapsed": true
   },
   "outputs": [],
   "source": [
    "def get_batch(images, batch_size, index):\n",
    "    start_idx = index * batch_size\n",
    "    end_idx = (index + 1) * batch_size        \n",
    "    batch  = images[start_idx: end_idx]\n",
    "    return batch"
   ]
  },
  {
   "cell_type": "code",
   "execution_count": null,
   "metadata": {
    "collapsed": false
   },
   "outputs": [],
   "source": [
    "#image_size = 28 * 28\n",
    "#latent_dim=2\n",
    "#encoder_internal_dim=2048\n",
    "#decoder_internal_dim=2048\n",
    "\n",
    "image_size = 64 * 64 * 3\n",
    "latent_dim = 100\n",
    "encoder_internal_dim = decoder_internal_dim = 2048\n",
    "\n",
    "input_shape = [None, image_size]\n",
    "x = tf.placeholder(tf.float32, input_shape)\n",
    "\n",
    "softplus = tf.nn.softplus\n",
    "tanh = tf.nn.tanh\n",
    "\n",
    "h_enc1 = layer(x, [image_size, encoder_internal_dim], activation=softplus)\n",
    "h_enc2 = layer(h_enc1, [encoder_internal_dim, encoder_internal_dim], activation=softplus)\n",
    "h_enc3 = layer(h_enc2, [encoder_internal_dim, encoder_internal_dim], activation=softplus)\n",
    "\n",
    "W_mu = weight_variable([encoder_internal_dim, latent_dim])\n",
    "b_mu = bias_variable([latent_dim])\n",
    "\n",
    "W_log_sigma = weight_variable([encoder_internal_dim, latent_dim])\n",
    "b_log_sigma = bias_variable([latent_dim])\n",
    "\n",
    "    \n",
    "z_mu = tf.matmul(h_enc3, W_mu) + b_mu\n",
    "z_log_sigma = tf.matmul(h_enc3, W_log_sigma) + b_log_sigma\n",
    "\n",
    "# reparametarization trick\n",
    "\n",
    "# noise gaussian ε ~ N(0, 1)\n",
    "epsilon = tf.random_normal(tf.stack([tf.shape(x)[0], latent_dim]))\n",
    "\n",
    "# z = μ+σ^(1/2)*ε\n",
    "z = z_mu + tf.exp(z_log_sigma/2) * epsilon\n",
    "\n",
    "\n",
    "h_dec1 = layer(z, [latent_dim, decoder_internal_dim], activation=softplus)\n",
    "h_dec2 = layer(h_dec1, [decoder_internal_dim, decoder_internal_dim], activation=softplus)\n",
    "h_dec3 = layer(h_dec2, [decoder_internal_dim, decoder_internal_dim], activation=softplus)\n",
    "\n",
    "# log(p(x|z)) (p is Bernoulli) reconstruction loss\n",
    "y = layer(h_dec3, [decoder_internal_dim, image_size], activation=tf.nn.sigmoid)\n",
    "recon = -tf.reduce_sum(x * tf.log(y + 1e-10) + (1 - x) * tf.log(1 - y + 1e-10), 1)/image_size\n",
    "\n",
    "\n",
    "# KLD(q(z|x)||p(z)) ~ -(1/2) * sum(1 + log(sigma^2) - mu^2 - sigma^2)\n",
    "kl_div = - (1/2)* tf.reduce_sum(1.0 + 2.0 * z_log_sigma - tf.square(z_mu) - tf.exp(2.0 * z_log_sigma),1)/image_size\n",
    "\n",
    " \n",
    "\n",
    "cost = tf.reduce_mean(recon + kl_div)\n",
    "cost_kl = tf.reduce_mean(kl_div)\n",
    "cost_recon = tf.reduce_mean(recon)\n"
   ]
  },
  {
   "cell_type": "code",
   "execution_count": null,
   "metadata": {
    "collapsed": false
   },
   "outputs": [],
   "source": [
    "% rm -rf img/\n",
    "% mkdir img/\n",
    "\n",
    "import matplotlib.pyplot as plt\n",
    "import numpy as np\n",
    "\n",
    "\n",
    "def create_images(i, sess, test_images, num_examples=20, image_size=28*28):\n",
    "    h = w = int(np.sqrt(image_size/3))\n",
    "    \n",
    "    original = get_batch(test_images, num_examples, 0)\n",
    "    reconstruction = sess.run(y, feed_dict={x: original})\n",
    "    \n",
    "    fig, axs = plt.subplots(2, num_examples, figsize=(20, 2))\n",
    "    for example_i in range(num_examples):\n",
    "        axs[0][example_i].imshow(np.reshape(original[example_i, :], (h, w, 3)),cmap='gray')\n",
    "        axs[1][example_i].imshow(np.reshape(np.reshape(reconstruction[example_i, ...], (image_size,)),(h, w, 3)),cmap='gray')\n",
    "        #axs[0][example_i].imshow(np.reshape(original[example_i, :], (h, w)),cmap='gray')\n",
    "        #axs[1][example_i].imshow(np.reshape(np.reshape(reconstruction[example_i, ...], (image_size,)),(h, w)),cmap='gray')\n",
    "        axs[0][example_i].axis('off')\n",
    "        axs[1][example_i].axis('off')\n",
    "    fig.savefig('img/reconstruction_%08d.png' % i)\n",
    "\n",
    "    \n",
    "    \n",
    "\n",
    "def create_latent_scatter_images(i, sess, test_images,test_labels):\n",
    "    zs = sess.run(z, feed_dict={x: test_images})\n",
    "    fig, ax = plt.subplots(1, 1)\n",
    "    ax.clear()\n",
    "    ax.scatter(zs[:, 0], zs[:, 1], c=np.argmax(test_labels, 1), alpha=0.2)\n",
    "    ax.set_xlim([-6, 6])\n",
    "    ax.set_ylim([-6, 6])\n",
    "    ax.axis(\"off\")\n",
    "    fig.savefig(\"img/latent_scatter_%08d.png\"% i)"
   ]
  },
  {
   "cell_type": "code",
   "execution_count": null,
   "metadata": {
    "collapsed": false
   },
   "outputs": [],
   "source": [
    "def train(train_images, validation_images, test_images, test_labels=[], image_size=28*28, learning_rate = 0.001):\n",
    "\n",
    "    sess = tf.Session()\n",
    "    optimizer = tf.train.AdamOptimizer(learning_rate).minimize(cost)\n",
    "    sess.run(tf.global_variables_initializer())\n",
    "\n",
    "    \n",
    "    batch_size = 50\n",
    "    num_epochs = 10000\n",
    "\n",
    "    num_train_batches = len(train_images) // batch_size\n",
    "    num_validation_batches = len(validation_images) // batch_size\n",
    "\n",
    "    print(\"num of train batches: \", num_train_batches)\n",
    "    print(\"num of validation batches: \", num_validation_batches)\n",
    "\n",
    "    i = 0\n",
    "    for epoch in range(num_epochs):\n",
    "        print(\"epoch No.\", epoch)\n",
    "        \n",
    "        for batch_idx in range(num_train_batches):            \n",
    "            batch  = get_batch(train_images, batch_size, batch_idx)\n",
    "            sess.run(optimizer, feed_dict={x: batch})\n",
    "            #print(\"z: \", sess.run(z, feed_dict={x: batch}))\n",
    "            #print(\"h_dec1: \", sess.run(h_dec1, feed_dict={x: batch}))\n",
    "            #print(\"h_dec2: \", sess.run(h_dec2, feed_dict={x: batch}))\n",
    "            #print(\"h_dec3: \", sess.run(h_dec3, feed_dict={x: batch}))\n",
    "            #print(\"y: \", sess.run(y, feed_dict={x: batch}))\n",
    "      \n",
    "            \n",
    "         \n",
    "        train_cost = sess.run(cost, feed_dict={x: batch})\n",
    "        print(\"train cost per a batch: \", train_cost)\n",
    "        i += 1\n",
    "        create_images(i, sess, test_images, num_examples=10, image_size=image_size)\n",
    "        #create_images(i, sess, test_images, num_examples=20, image_size=image_size)\n",
    "        #create_latent_scatter_images(i, sess, test_images, test_labels)\n",
    "        print(\"cost_kl: \", sess.run(cost_kl, feed_dict={x: batch}))\n",
    "        print(\"cost_recon: \", sess.run(cost_recon, feed_dict={x: batch}))\n",
    "      \n",
    "\n",
    "        valid_cost = 0\n",
    "        for j in range(num_validation_batches):\n",
    "            batch  = get_batch(validation_images, batch_size, j)\n",
    "            valid_cost += sess.run(cost, feed_dict={x: batch})\n",
    "        print(\"validation cost per a batch: \", valid_cost / num_validation_batches)\n"
   ]
  },
  {
   "cell_type": "code",
   "execution_count": null,
   "metadata": {
    "collapsed": true
   },
   "outputs": [],
   "source": []
  },
  {
   "cell_type": "code",
   "execution_count": null,
   "metadata": {
    "collapsed": false
   },
   "outputs": [],
   "source": [
    "from glob import glob\n",
    "import os\n",
    "import scipy\n",
    "import scipy.misc\n",
    "import tqdm\n",
    "\n",
    "\n",
    "%matplotlib inline  \n",
    "data = glob(os.path.join(\"celebA\", \"*.jpg\"))\n",
    "data = np.sort(data)\n",
    "data[0:10]"
   ]
  },
  {
   "cell_type": "code",
   "execution_count": null,
   "metadata": {
    "collapsed": false
   },
   "outputs": [],
   "source": [
    "len(data)"
   ]
  },
  {
   "cell_type": "code",
   "execution_count": null,
   "metadata": {
    "collapsed": true
   },
   "outputs": [],
   "source": [
    "def imread(path):\n",
    "    return scipy.misc.imread(path).astype(np.float)\n",
    "\n",
    "def resize_width(image, width=64.):\n",
    "    h, w = np.shape(image)[:2]\n",
    "    return scipy.misc.imresize(image,[int((float(h)/w)*width),width])\n",
    "        \n",
    "def center_crop(x, height=64):\n",
    "    h= np.shape(x)[0]\n",
    "    j = int(round((h - height)/2.))\n",
    "    return x[j:j+height,:,:]\n",
    "\n",
    "def get_image(image_path, width=64, height=64):\n",
    "    return center_crop(resize_width(imread(image_path), width = width),height=height)"
   ]
  },
  {
   "cell_type": "code",
   "execution_count": null,
   "metadata": {
    "collapsed": false
   },
   "outputs": [],
   "source": [
    "dim = int(np.sqrt(image_size/3))\n",
    "test = get_image(data[0],dim,dim)\n",
    "cm = plt.cm.hot\n",
    "fig, ax = plt.subplots(nrows=1,ncols=1, figsize=(10,5))\n",
    "ax.imshow(np.reshape(test, (dim,dim,3)), interpolation='nearest')\n"
   ]
  },
  {
   "cell_type": "code",
   "execution_count": null,
   "metadata": {
    "collapsed": false
   },
   "outputs": [],
   "source": [
    "#images = np.zeros((len(data),dim,dim,3), dtype = np.float)\n",
    "\n",
    "images = np.zeros((len(data),dim*dim*3), dtype = np.float)\n",
    "for i, d in enumerate(tqdm.tqdm(data)):\n",
    "    image = get_image(d, dim,dim)\n",
    "    images[i] = image.flatten()/255."
   ]
  },
  {
   "cell_type": "code",
   "execution_count": null,
   "metadata": {
    "collapsed": false
   },
   "outputs": [],
   "source": [
    "images[0].shape"
   ]
  },
  {
   "cell_type": "code",
   "execution_count": null,
   "metadata": {
    "collapsed": false
   },
   "outputs": [],
   "source": [
    "test = images[i]\n",
    "cm = plt.cm.hot\n",
    "fig, ax = plt.subplots(nrows=1,ncols=1, figsize=(10,5))\n",
    "ax.imshow(np.reshape(test, (dim,dim,3)), interpolation='nearest')"
   ]
  },
  {
   "cell_type": "code",
   "execution_count": null,
   "metadata": {
    "collapsed": false
   },
   "outputs": [],
   "source": [
    "train_images = images[50:]\n",
    "validation_images = images[:50]\n",
    "test_images = images[:10]"
   ]
  },
  {
   "cell_type": "code",
   "execution_count": null,
   "metadata": {
    "collapsed": false,
    "scrolled": true
   },
   "outputs": [],
   "source": [
    "train(train_images, validation_images, test_images, test_labels=[], image_size=image_size, learning_rate = 0.001)"
   ]
  },
  {
   "cell_type": "code",
   "execution_count": null,
   "metadata": {
    "collapsed": false
   },
   "outputs": [],
   "source": []
  },
  {
   "cell_type": "code",
   "execution_count": null,
   "metadata": {
    "collapsed": true
   },
   "outputs": [],
   "source": []
  },
  {
   "cell_type": "code",
   "execution_count": null,
   "metadata": {
    "collapsed": true
   },
   "outputs": [],
   "source": []
  },
  {
   "cell_type": "code",
   "execution_count": null,
   "metadata": {
    "collapsed": true
   },
   "outputs": [],
   "source": []
  },
  {
   "cell_type": "code",
   "execution_count": null,
   "metadata": {
    "collapsed": true
   },
   "outputs": [],
   "source": []
  },
  {
   "cell_type": "code",
   "execution_count": null,
   "metadata": {
    "collapsed": true
   },
   "outputs": [],
   "source": []
  },
  {
   "cell_type": "code",
   "execution_count": null,
   "metadata": {
    "collapsed": true
   },
   "outputs": [],
   "source": []
  },
  {
   "cell_type": "code",
   "execution_count": null,
   "metadata": {
    "collapsed": true
   },
   "outputs": [],
   "source": [
    "# mnist"
   ]
  },
  {
   "cell_type": "code",
   "execution_count": null,
   "metadata": {
    "collapsed": false
   },
   "outputs": [],
   "source": [
    "import tensorflow.examples.tutorials.mnist.input_data as input_data\n",
    "mnist = input_data.read_data_sets('MNIST_DATA', one_hot=True)"
   ]
  },
  {
   "cell_type": "code",
   "execution_count": null,
   "metadata": {
    "collapsed": false
   },
   "outputs": [],
   "source": [
    "train_images = mnist.train.images\n",
    "validation_images = mnist.validation.images\n",
    "test_images = mnist.test.images\n",
    "test_labels = mnist.test.labels"
   ]
  },
  {
   "cell_type": "code",
   "execution_count": null,
   "metadata": {
    "collapsed": false
   },
   "outputs": [],
   "source": [
    "train_images[0].shape"
   ]
  },
  {
   "cell_type": "code",
   "execution_count": null,
   "metadata": {
    "collapsed": false
   },
   "outputs": [],
   "source": [
    "train(train_images, validation_images, test_images, test_labels, image_size=28*28)"
   ]
  },
  {
   "cell_type": "code",
   "execution_count": null,
   "metadata": {
    "collapsed": true
   },
   "outputs": [],
   "source": []
  }
 ],
 "metadata": {
  "anaconda-cloud": {},
  "kernelspec": {
   "display_name": "Python 3",
   "language": "python",
   "name": "python3"
  },
  "language_info": {
   "codemirror_mode": {
    "name": "ipython",
    "version": 3
   },
   "file_extension": ".py",
   "mimetype": "text/x-python",
   "name": "python",
   "nbconvert_exporter": "python",
   "pygments_lexer": "ipython3",
   "version": "3.6.0"
  }
 },
 "nbformat": 4,
 "nbformat_minor": 2
}
