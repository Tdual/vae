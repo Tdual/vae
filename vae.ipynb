{
 "cells": [
  {
   "cell_type": "code",
   "execution_count": 1,
   "metadata": {
    "collapsed": true
   },
   "outputs": [],
   "source": [
    "import tensorflow as tf\n",
    "import os\n",
    "import matplotlib.pyplot as plt\n",
    "import numpy as np\n",
    "import datetime\n",
    "from glob import glob\n",
    "import scipy\n",
    "import scipy.misc\n",
    "import pickle\n",
    "from tqdm import tqdm_notebook as tqdm\n",
    "%matplotlib inline  "
   ]
  },
  {
   "cell_type": "code",
   "execution_count": 2,
   "metadata": {
    "collapsed": true
   },
   "outputs": [],
   "source": [
    "def weight_variable(shape):\n",
    "    return tf.Variable(tf.random_normal(shape, mean=0.0, stddev=0.01))\n",
    "\n",
    "def bias_variable(shape):\n",
    "    return tf.Variable(tf.random_normal(shape, mean=0.0, stddev=0.01))\n",
    "\n",
    "def layer(x, shape, activation):\n",
    "    W = weight_variable(shape)\n",
    "    b = bias_variable([shape[1]])\n",
    "    return activation(tf.matmul(x, W) + b)"
   ]
  },
  {
   "cell_type": "code",
   "execution_count": 3,
   "metadata": {
    "collapsed": true
   },
   "outputs": [],
   "source": [
    "def get_batch(images, batch_size, index):\n",
    "    start_idx = index * batch_size\n",
    "    end_idx = (index + 1) * batch_size        \n",
    "    batch  = images[start_idx: end_idx]\n",
    "    return batch"
   ]
  },
  {
   "cell_type": "code",
   "execution_count": 4,
   "metadata": {
    "collapsed": false
   },
   "outputs": [],
   "source": [
    "image_size = 64 * 64 * 3\n",
    "latent_dim = 100\n",
    "encoder_internal_dim = decoder_internal_dim = 2048\n",
    "\n",
    "input_shape = [None, image_size]\n",
    "x = tf.placeholder(tf.float32, input_shape)\n",
    "\n",
    "softplus = tf.nn.softplus\n",
    "tanh = tf.nn.tanh\n",
    "\n",
    "h_enc1 = layer(x, [image_size, encoder_internal_dim], activation=softplus)\n",
    "h_enc2 = layer(h_enc1, [encoder_internal_dim, encoder_internal_dim], activation=softplus)\n",
    "h_enc3 = layer(h_enc2, [encoder_internal_dim, encoder_internal_dim], activation=softplus)\n",
    "\n",
    "W_mu = weight_variable([encoder_internal_dim, latent_dim])\n",
    "b_mu = bias_variable([latent_dim])\n",
    "\n",
    "W_log_sigma = weight_variable([encoder_internal_dim, latent_dim])\n",
    "b_log_sigma = bias_variable([latent_dim])\n",
    "\n",
    "    \n",
    "z_mu = tf.matmul(h_enc3, W_mu) + b_mu\n",
    "z_log_sigma = tf.matmul(h_enc3, W_log_sigma) + b_log_sigma\n",
    "\n",
    "# reparametarization trick\n",
    "\n",
    "# noise gaussian ε ~ N(0, 1)\n",
    "epsilon = tf.random_normal(tf.stack([tf.shape(x)[0], latent_dim]))\n",
    "\n",
    "# z = μ+σ^(1/2)*ε\n",
    "z = z_mu + tf.exp(z_log_sigma/2) * epsilon\n",
    "\n",
    "\n",
    "h_dec1 = layer(z, [latent_dim, decoder_internal_dim], activation=softplus)\n",
    "h_dec2 = layer(h_dec1, [decoder_internal_dim, decoder_internal_dim], activation=softplus)\n",
    "h_dec3 = layer(h_dec2, [decoder_internal_dim, decoder_internal_dim], activation=softplus)\n",
    "\n",
    "# log(p(x|z)) (p is Bernoulli) reconstruction loss\n",
    "y = layer(h_dec3, [decoder_internal_dim, image_size], activation=tf.nn.sigmoid)\n",
    "recon = -tf.reduce_sum(x * tf.log(y + 1e-10) + (1 - x) * tf.log(1 - y + 1e-10), 1)/image_size\n",
    "\n",
    "\n",
    "# KLD(q(z|x)||p(z)) ~ -(1/2) * sum(1 + log(sigma^2) - mu^2 - sigma^2)\n",
    "kl_div = - (1/2)* tf.reduce_sum(1.0 + 2.0 * z_log_sigma - tf.square(z_mu) - tf.exp(2.0 * z_log_sigma),1)/image_size\n",
    "\n",
    " \n",
    "\n",
    "cost = tf.reduce_mean(recon + kl_div)\n",
    "cost_kl = tf.reduce_mean(kl_div)\n",
    "cost_recon = tf.reduce_mean(recon)\n"
   ]
  },
  {
   "cell_type": "code",
   "execution_count": 5,
   "metadata": {
    "collapsed": false
   },
   "outputs": [],
   "source": [
    "if not os.path.exists(\"./model/\"):\n",
    "    os.mkdir(\"./model/\")"
   ]
  },
  {
   "cell_type": "code",
   "execution_count": 6,
   "metadata": {
    "collapsed": false
   },
   "outputs": [],
   "source": [
    "% rm -rf img/\n",
    "% mkdir img/\n",
    "\n",
    "\n",
    "def create_images(i, sess, test_images, num_examples=20, image_size=28*28):\n",
    "    h = w = int(np.sqrt(image_size/3))\n",
    "    \n",
    "    original = get_batch(test_images, num_examples, 0)\n",
    "    reconstruction = sess.run(y, feed_dict={x: original})\n",
    "    \n",
    "    fig, axs = plt.subplots(2, num_examples, figsize=(20, 2))\n",
    "    for example_i in range(num_examples):\n",
    "        axs[0][example_i].imshow(np.reshape(original[example_i, :], (h, w, 3)),cmap='gray')\n",
    "        axs[1][example_i].imshow(np.reshape(np.reshape(reconstruction[example_i, ...], (image_size,)),(h, w, 3)),cmap='gray')\n",
    "        #axs[0][example_i].imshow(np.reshape(original[example_i, :], (h, w)),cmap='gray')\n",
    "        #axs[1][example_i].imshow(np.reshape(np.reshape(reconstruction[example_i, ...], (image_size,)),(h, w)),cmap='gray')\n",
    "        axs[0][example_i].axis('off')\n",
    "        axs[1][example_i].axis('off')\n",
    "    fig.savefig('img/reconstruction_%08d.png' % i)\n",
    "    plt.close()\n",
    "\n",
    "    \n",
    "def create_latent_scatter_images(i, sess, test_images,test_labels):\n",
    "    zs = sess.run(z, feed_dict={x: test_images})\n",
    "    fig, ax = plt.subplots(1, 1)\n",
    "    ax.clear()\n",
    "    ax.scatter(zs[:, 0], zs[:, 1], c=np.argmax(test_labels, 1), alpha=0.2)\n",
    "    ax.set_xlim([-6, 6])\n",
    "    ax.set_ylim([-6, 6])\n",
    "    ax.axis(\"off\")\n",
    "    fig.savefig(\"img/latent_scatter_%08d.png\"% i)\n",
    "    plt.close()"
   ]
  },
  {
   "cell_type": "code",
   "execution_count": 7,
   "metadata": {
    "collapsed": false
   },
   "outputs": [
    {
     "data": {
      "text/plain": [
       "'./model/model_2017_09_23_10_47_43.ckpt'"
      ]
     },
     "execution_count": 7,
     "metadata": {},
     "output_type": "execute_result"
    }
   ],
   "source": [
    "data = glob(os.path.join(\"./model/\", \"model*\"))\n",
    "latest_ckpt = sorted(data)[-1].split(\".meta\")[0]\n",
    "latest_ckpt"
   ]
  },
  {
   "cell_type": "code",
   "execution_count": null,
   "metadata": {
    "collapsed": false
   },
   "outputs": [],
   "source": [
    "def train(train_images, validation_images, test_images, test_labels=[], image_size=28*28, learning_rate = 0.005):\n",
    "    saver = tf.train.Saver()\n",
    "    sess = tf.Session()\n",
    "    optimizer = tf.train.AdamOptimizer(learning_rate).minimize(cost)\n",
    "    sess.run(tf.global_variables_initializer())\n",
    "    if latest_ckpt:\n",
    "        saver.restore(sess, latest_ckpt)\n",
    "    \n",
    "    batch_size = 50\n",
    "    num_epochs = 10000\n",
    "\n",
    "    num_train_batches = len(train_images) // batch_size\n",
    "    num_validation_batches = len(validation_images) // batch_size\n",
    "\n",
    "    print(\"num of train batches: \", num_train_batches)\n",
    "    print(\"num of validation batches: \", num_validation_batches)\n",
    "\n",
    "    i = 0\n",
    "    for epoch in range(num_epochs):\n",
    "        print(\"epoch no.\", epoch)\n",
    "        \n",
    "        for batch_idx in tqdm(range(num_train_batches)):            \n",
    "            batch  = get_batch(train_images, batch_size, batch_idx)\n",
    "            sess.run(optimizer, feed_dict={x: batch})\n",
    "            #print(\"z: \", sess.run(z, feed_dict={x: batch}))\n",
    "            #print(\"h_dec1: \", sess.run(h_dec1, feed_dict={x: batch}))\n",
    "            #print(\"h_dec2: \", sess.run(h_dec2, feed_dict={x: batch}))\n",
    "            #print(\"h_dec3: \", sess.run(h_dec3, feed_dict={x: batch}))\n",
    "            #print(\"y: \", sess.run(y, feed_dict={x: batch}))\n",
    "      \n",
    "            \n",
    "         \n",
    "        train_cost = sess.run(cost, feed_dict={x: batch})\n",
    "        print(\"train cost per a batch: \", train_cost)\n",
    "        i += 1\n",
    "        create_images(i, sess, test_images, num_examples=10, image_size=image_size)\n",
    "        #create_latent_scatter_images(i, sess, test_images, test_labels)\n",
    "        print(\"cost_kl: \", sess.run(cost_kl, feed_dict={x: batch}))\n",
    "        print(\"cost_recon: \", sess.run(cost_recon, feed_dict={x: batch}))\n",
    "      \n",
    "\n",
    "        valid_cost = 0\n",
    "        for j in range(num_validation_batches):\n",
    "            batch  = get_batch(validation_images, batch_size, j)\n",
    "            valid_cost += sess.run(cost, feed_dict={x: batch})\n",
    "        print(\"validation cost per a batch: \", valid_cost / num_validation_batches)\n",
    "        now = datetime.datetime.now().strftime('%Y_%m_%d_%H_%M_%S')\n",
    "        save_path = saver.save(sess, \"model/model_{}.ckpt\".format(now))\n",
    "        print(\"Model saved in file: %s\" % save_path)\n"
   ]
  },
  {
   "cell_type": "code",
   "execution_count": 8,
   "metadata": {
    "collapsed": true
   },
   "outputs": [],
   "source": [
    "def get_z(images):\n",
    "    saver = tf.train.Saver()\n",
    "    sess = tf.Session()\n",
    "    sess.run(tf.global_variables_initializer())\n",
    "    if latest_ckpt:\n",
    "        saver.restore(sess, latest_ckpt)\n",
    "    z_list = sess.run(z, feed_dict={x: images})\n",
    "    return z_list\n",
    "    "
   ]
  },
  {
   "cell_type": "code",
   "execution_count": 9,
   "metadata": {
    "collapsed": true
   },
   "outputs": [],
   "source": [
    "def imread(path):\n",
    "    return scipy.misc.imread(path).astype(np.float)\n",
    "\n",
    "def resize_width(image, width=64.):\n",
    "    h, w = np.shape(image)[:2]\n",
    "    return scipy.misc.imresize(image,[int((float(h)/w)*width),width])\n",
    "        \n",
    "def center_crop(x, height=64):\n",
    "    h= np.shape(x)[0]\n",
    "    j = int(round((h - height)/2.))\n",
    "    return x[j:j+height,:,:]\n",
    "\n",
    "def get_image(image_path, width=64, height=64):\n",
    "    return center_crop(resize_width(imread(image_path), width = width),height=height)\n",
    "\n",
    "def load_img_data(data):\n",
    "    images = np.zeros((len(data),dim*dim*3), dtype = np.float)\n",
    "    for i, d in enumerate(tqdm(data)):\n",
    "        image = get_image(d, dim,dim)\n",
    "        images[i] = image.flatten()/255.\n",
    "    return images"
   ]
  },
  {
   "cell_type": "code",
   "execution_count": 10,
   "metadata": {
    "collapsed": false
   },
   "outputs": [
    {
     "name": "stdout",
     "output_type": "stream",
     "text": [
      "['./data/celebA/000001.jpg' './data/celebA/000002.jpg'\n",
      " './data/celebA/000003.jpg' './data/celebA/000004.jpg'\n",
      " './data/celebA/000005.jpg' './data/celebA/000006.jpg'\n",
      " './data/celebA/000007.jpg' './data/celebA/000008.jpg'\n",
      " './data/celebA/000009.jpg' './data/celebA/000010.jpg']\n",
      "num of data:  202599\n"
     ]
    }
   ],
   "source": [
    "data = glob(os.path.join(\"./data/celebA\", \"*.jpg\"))\n",
    "data = np.sort(data)\n",
    "print(data[0:10])\n",
    "print(\"num of data: \", len(data))"
   ]
  },
  {
   "cell_type": "code",
   "execution_count": 11,
   "metadata": {
    "collapsed": false
   },
   "outputs": [
    {
     "data": {
      "text/plain": [
       "<matplotlib.image.AxesImage at 0x113d36208>"
      ]
     },
     "execution_count": 11,
     "metadata": {},
     "output_type": "execute_result"
    },
    {
     "data": {
      "image/png": "[encoded data removed]",
      "text/plain": [
       "<matplotlib.figure.Figure at 0x113d36908>"
      ]
     },
     "metadata": {},
     "output_type": "display_data"
    }
   ],
   "source": [
    "dim = int(np.sqrt(image_size/3))\n",
    "test = get_image(data[0],dim,dim)\n",
    "cm = plt.cm.hot\n",
    "fig, ax = plt.subplots(nrows=1,ncols=1, figsize=(10,5))\n",
    "ax.imshow(np.reshape(test, (dim,dim,3)), interpolation='nearest')"
   ]
  },
  {
   "cell_type": "code",
   "execution_count": 12,
   "metadata": {
    "collapsed": false
   },
   "outputs": [
    {
     "name": "stdout",
     "output_type": "stream",
     "text": [
      "loading from pickles\n",
      "\n"
     ]
    },
    {
     "ename": "KeyboardInterrupt",
     "evalue": "",
     "output_type": "error",
     "traceback": [
      "\u001b[0;31m---------------------------------------------------------------------------\u001b[0m",
      "\u001b[0;31mKeyboardInterrupt\u001b[0m                         Traceback (most recent call last)",
      "\u001b[0;32m<ipython-input-12-1bdf72a202ff>\u001b[0m in \u001b[0;36m<module>\u001b[0;34m()\u001b[0m\n\u001b[1;32m      8\u001b[0m         \u001b[0mfile_name\u001b[0m \u001b[0;34m=\u001b[0m \u001b[0;34m\"./images_{}.pickle\"\u001b[0m\u001b[0;34m.\u001b[0m\u001b[0mformat\u001b[0m\u001b[0;34m(\u001b[0m\u001b[0mi\u001b[0m\u001b[0;34m)\u001b[0m\u001b[0;34m\u001b[0m\u001b[0m\n\u001b[1;32m      9\u001b[0m         \u001b[0;32mwith\u001b[0m \u001b[0mopen\u001b[0m\u001b[0;34m(\u001b[0m\u001b[0mfile_name\u001b[0m\u001b[0;34m,\u001b[0m \u001b[0mmode\u001b[0m\u001b[0;34m=\u001b[0m\u001b[0;34m'rb'\u001b[0m\u001b[0;34m)\u001b[0m \u001b[0;32mas\u001b[0m \u001b[0mf\u001b[0m\u001b[0;34m:\u001b[0m\u001b[0;34m\u001b[0m\u001b[0m\n\u001b[0;32m---> 10\u001b[0;31m             \u001b[0mimages_list\u001b[0m\u001b[0;34m.\u001b[0m\u001b[0mappend\u001b[0m\u001b[0;34m(\u001b[0m\u001b[0mpickle\u001b[0m\u001b[0;34m.\u001b[0m\u001b[0mload\u001b[0m\u001b[0;34m(\u001b[0m\u001b[0mf\u001b[0m\u001b[0;34m)\u001b[0m\u001b[0;34m)\u001b[0m\u001b[0;34m\u001b[0m\u001b[0m\n\u001b[0m\u001b[1;32m     11\u001b[0m     \u001b[0mimages\u001b[0m \u001b[0;34m=\u001b[0m \u001b[0mnp\u001b[0m\u001b[0;34m.\u001b[0m\u001b[0mconcatenate\u001b[0m\u001b[0;34m(\u001b[0m\u001b[0mimages_list\u001b[0m\u001b[0;34m,\u001b[0m \u001b[0maxis\u001b[0m\u001b[0;34m=\u001b[0m\u001b[0;36m0\u001b[0m\u001b[0;34m)\u001b[0m\u001b[0;34m\u001b[0m\u001b[0m\n\u001b[1;32m     12\u001b[0m     \u001b[0;32mdel\u001b[0m \u001b[0mimages_list\u001b[0m\u001b[0;34m[\u001b[0m\u001b[0;34m:\u001b[0m\u001b[0;34m]\u001b[0m\u001b[0;34m\u001b[0m\u001b[0m\n",
      "\u001b[0;31mKeyboardInterrupt\u001b[0m: "
     ]
    }
   ],
   "source": [
    "image_batch_size = 10000\n",
    "n_image_batches = 1 + len(data) // image_batch_size\n",
    "\n",
    "if os.path.exists(\"./images_0.pickle\"):\n",
    "    print(\"loading from pickles\")\n",
    "    images_list = []\n",
    "    for i in tqdm(range(n_image_batches)):\n",
    "        file_name = \"./images_{}.pickle\".format(i)\n",
    "        with open(file_name, mode='rb') as f:\n",
    "            images_list.append(pickle.load(f))\n",
    "    images = np.concatenate(images_list, axis=0)\n",
    "    del images_list[:]\n",
    "    del images_list\n",
    "else:\n",
    "    images =  load_img_data(data)\n",
    "        \n",
    "    for i in range(n_image_batches):\n",
    "        image_batch = get_batch(images, image_batch_size, i)\n",
    "        file_name = \"./images_{}.pickle\".format(i)\n",
    "        with open(file_name ,mode='wb') as f:\n",
    "            pickle.dump(image_batch, f,protocol=4)"
   ]
  },
  {
   "cell_type": "code",
   "execution_count": 13,
   "metadata": {
    "collapsed": false,
    "scrolled": true
   },
   "outputs": [
    {
     "name": "stdout",
     "output_type": "stream",
     "text": [
      "\n"
     ]
    }
   ],
   "source": [
    "images = load_img_data(data[:1000])"
   ]
  },
  {
   "cell_type": "code",
   "execution_count": 14,
   "metadata": {
    "collapsed": false
   },
   "outputs": [
    {
     "data": {
      "text/plain": [
       "1000"
      ]
     },
     "execution_count": 14,
     "metadata": {},
     "output_type": "execute_result"
    }
   ],
   "source": [
    "len(images)"
   ]
  },
  {
   "cell_type": "code",
   "execution_count": 15,
   "metadata": {
    "collapsed": false
   },
   "outputs": [
    {
     "data": {
      "text/plain": [
       "(12288,)"
      ]
     },
     "execution_count": 15,
     "metadata": {},
     "output_type": "execute_result"
    }
   ],
   "source": [
    "images[0].shape"
   ]
  },
  {
   "cell_type": "code",
   "execution_count": 18,
   "metadata": {
    "collapsed": false
   },
   "outputs": [
    {
     "data": {
      "text/plain": [
       "<matplotlib.image.AxesImage at 0x102534e80>"
      ]
     },
     "execution_count": 18,
     "metadata": {},
     "output_type": "execute_result"
    },
    {
     "data": {
      "image/png": "[encoded data removed]",
      "text/plain": [
       "<matplotlib.figure.Figure at 0x102534d68>"
      ]
     },
     "metadata": {},
     "output_type": "display_data"
    }
   ],
   "source": [
    "test = images[100]\n",
    "fig, ax = plt.subplots(nrows=1,ncols=1, figsize=(10,5))\n",
    "ax.imshow(np.reshape(test, (dim,dim,3)), interpolation='nearest')"
   ]
  },
  {
   "cell_type": "code",
   "execution_count": 19,
   "metadata": {
    "collapsed": false
   },
   "outputs": [],
   "source": [
    "train_images = images[50:]\n",
    "validation_images = images[:50]\n",
    "test_images = images[:10]"
   ]
  },
  {
   "cell_type": "code",
   "execution_count": null,
   "metadata": {
    "collapsed": false,
    "scrolled": false
   },
   "outputs": [],
   "source": [
    "train(train_images, validation_images, test_images, test_labels=[], image_size=image_size, learning_rate = 0.0005)"
   ]
  },
  {
   "cell_type": "code",
   "execution_count": null,
   "metadata": {
    "collapsed": false
   },
   "outputs": [],
   "source": [
    "z_list = get_z(images)"
   ]
  },
  {
   "cell_type": "code",
   "execution_count": null,
   "metadata": {
    "collapsed": false
   },
   "outputs": [],
   "source": [
    "z_list.shape"
   ]
  },
  {
   "cell_type": "code",
   "execution_count": null,
   "metadata": {
    "collapsed": true
   },
   "outputs": [],
   "source": []
  },
  {
   "cell_type": "code",
   "execution_count": null,
   "metadata": {
    "collapsed": true
   },
   "outputs": [],
   "source": []
  },
  {
   "cell_type": "code",
   "execution_count": null,
   "metadata": {
    "collapsed": true
   },
   "outputs": [],
   "source": []
  },
  {
   "cell_type": "code",
   "execution_count": null,
   "metadata": {
    "collapsed": true
   },
   "outputs": [],
   "source": []
  },
  {
   "cell_type": "code",
   "execution_count": null,
   "metadata": {
    "collapsed": true
   },
   "outputs": [],
   "source": []
  },
  {
   "cell_type": "code",
   "execution_count": null,
   "metadata": {
    "collapsed": true
   },
   "outputs": [],
   "source": [
    "# mnist"
   ]
  },
  {
   "cell_type": "code",
   "execution_count": null,
   "metadata": {
    "collapsed": false
   },
   "outputs": [],
   "source": [
    "import tensorflow.examples.tutorials.mnist.input_data as input_data\n",
    "mnist = input_data.read_data_sets('MNIST_DATA', one_hot=True)"
   ]
  },
  {
   "cell_type": "code",
   "execution_count": null,
   "metadata": {
    "collapsed": false
   },
   "outputs": [],
   "source": [
    "train_images = mnist.train.images\n",
    "validation_images = mnist.validation.images\n",
    "test_images = mnist.test.images\n",
    "test_labels = mnist.test.labels"
   ]
  },
  {
   "cell_type": "code",
   "execution_count": null,
   "metadata": {
    "collapsed": false
   },
   "outputs": [],
   "source": [
    "train_images[0].shape"
   ]
  },
  {
   "cell_type": "code",
   "execution_count": null,
   "metadata": {
    "collapsed": false
   },
   "outputs": [],
   "source": [
    "train(train_images, validation_images, test_images, test_labels, image_size=28*28)"
   ]
  },
  {
   "cell_type": "code",
   "execution_count": null,
   "metadata": {
    "collapsed": true
   },
   "outputs": [],
   "source": []
  }
 ],
 "metadata": {
  "anaconda-cloud": {},
  "kernelspec": {
   "display_name": "Python 3",
   "language": "python",
   "name": "python3"
  },
  "language_info": {
   "codemirror_mode": {
    "name": "ipython",
    "version": 3
   },
   "file_extension": ".py",
   "mimetype": "text/x-python",
   "name": "python",
   "nbconvert_exporter": "python",
   "pygments_lexer": "ipython3",
   "version": "3.6.0"
  },
  "widgets": {
   "state": {
    "038da542ab6d4206a3e863b4a542a9cc": {
     "views": [
      {
       "cell_index": 16
      }
     ]
    },
    "245e55b3df994a8fb81bcda33e28bd85": {
     "views": [
      {
       "cell_index": 15
      }
     ]
    },
    "3038aca9c9e94b229f634acbd63716eb": {
     "views": [
      {
       "cell_index": 16
      }
     ]
    },
    "3279a4e6d6a145598c4d68f4b4d5e4a6": {
     "views": [
      {
       "cell_index": 16
      }
     ]
    },
    "3335530387574215b1f206debaa53d32": {
     "views": [
      {
       "cell_index": 16
      }
     ]
    },
    "40c30548ae7a41d9b69b2287a19e8528": {
     "views": [
      {
       "cell_index": 17
      }
     ]
    },
    "442dc36b021e4a11b7f2e5a23f3c5fd2": {
     "views": [
      {
       "cell_index": 15
      }
     ]
    },
    "4e91bcb5659a4601bde4fa6c6d5a8ec4": {
     "views": [
      {
       "cell_index": 16
      }
     ]
    },
    "52eb010e89e64c0d87d5b40d983a99a8": {
     "views": [
      {
       "cell_index": 16
      }
     ]
    },
    "54dd563a156842e9afccb88397c31870": {
     "views": [
      {
       "cell_index": 15
      }
     ]
    },
    "5525920077fe4c58bfc79a7af1874049": {
     "views": [
      {
       "cell_index": 15
      }
     ]
    },
    "67a421cce22649a8ae853715750d00a0": {
     "views": [
      {
       "cell_index": 15
      }
     ]
    },
    "68d18744bf3340b0b28dc875b7a0619a": {
     "views": [
      {
       "cell_index": 15
      }
     ]
    },
    "6b585646c86e4adfa7a4f5a3fcc00e9e": {
     "views": [
      {
       "cell_index": 15
      }
     ]
    },
    "6fff9b82bc2c4a7982ba7072f8ed7941": {
     "views": [
      {
       "cell_index": 16
      }
     ]
    },
    "70f4f6c03a5f414caf95fc8574d7c4d3": {
     "views": [
      {
       "cell_index": 16
      }
     ]
    },
    "72a9adcf470d4455947c31696fe7db8e": {
     "views": [
      {
       "cell_index": 12
      }
     ]
    },
    "7f96d9a5021b4785843b270e96b4fcf1": {
     "views": [
      {
       "cell_index": 16
      }
     ]
    },
    "852e6b19ac174d33a5ba84a7d0561472": {
     "views": [
      {
       "cell_index": 15
      }
     ]
    },
    "8d7a8089f8f24f07804e84027e458eb9": {
     "views": [
      {
       "cell_index": 16
      }
     ]
    },
    "8d7c5534b4434f48a1afa6d3c9a0f06f": {
     "views": [
      {
       "cell_index": 15
      }
     ]
    },
    "8e1922c8f89742ce9f27bb27ef517536": {
     "views": [
      {
       "cell_index": 16
      }
     ]
    },
    "9d0a6d083cde4ac492bef66f195b9e83": {
     "views": [
      {
       "cell_index": 16
      }
     ]
    },
    "a54d003c730a469e9613c0657a4069ae": {
     "views": [
      {
       "cell_index": 16
      }
     ]
    },
    "ae9c2cafbabb4d7c8728e67135d6b8d7": {
     "views": [
      {
       "cell_index": 15
      }
     ]
    },
    "bf222e127fc64d6cb438de7014903a0f": {
     "views": [
      {
       "cell_index": 15
      }
     ]
    },
    "c50c33a59c6d4a3eb6582ba5ca8eed50": {
     "views": [
      {
       "cell_index": 15
      }
     ]
    },
    "ca32040b534040acb5e1fb58fb29d5dc": {
     "views": [
      {
       "cell_index": 16
      }
     ]
    },
    "cb8c4c55198e4917bb312caf2c96d81c": {
     "views": [
      {
       "cell_index": 15
      }
     ]
    },
    "cece8644a7ef473aabba917b3d0cf979": {
     "views": [
      {
       "cell_index": 13
      }
     ]
    },
    "d2b251730ae547b6a0d13b2c6475b77b": {
     "views": [
      {
       "cell_index": 15
      }
     ]
    },
    "e66d16aa038f4df08f49c505aa344b55": {
     "views": [
      {
       "cell_index": 16
      }
     ]
    },
    "ecd2c01807854eee976ce8d12b4dd4d0": {
     "views": [
      {
       "cell_index": 15
      }
     ]
    },
    "fd253c0865bc4b039969754cddc6ee69": {
     "views": [
      {
       "cell_index": 16
      }
     ]
    },
    "fffe6145929f44a58b69959fb8254fbb": {
     "views": [
      {
       "cell_index": 17
      }
     ]
    }
   },
   "version": "1.2.0"
  }
 },
 "nbformat": 4,
 "nbformat_minor": 2
}
