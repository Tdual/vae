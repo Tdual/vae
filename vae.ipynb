{
 "cells": [
  {
   "cell_type": "code",
   "execution_count": 1,
   "metadata": {
    "collapsed": true
   },
   "outputs": [],
   "source": [
    "import tensorflow as tf\n",
    "import matplotlib.pyplot as plt\n",
    "import numpy as np"
   ]
  },
  {
   "cell_type": "code",
   "execution_count": 2,
   "metadata": {
    "collapsed": true
   },
   "outputs": [],
   "source": [
    "def weight_variable(shape):\n",
    "    return tf.Variable(tf.random_normal(shape, mean=0.0, stddev=0.01))\n",
    "\n",
    "def bias_variable(shape):\n",
    "    return tf.Variable(tf.random_normal(shape, mean=0.0, stddev=0.01))\n",
    "\n",
    "def layer(x, shape, activation):\n",
    "    W = weight_variable(shape)\n",
    "    b = bias_variable([shape[1]])\n",
    "    return activation(tf.matmul(x, W) + b)"
   ]
  },
  {
   "cell_type": "code",
   "execution_count": 3,
   "metadata": {
    "collapsed": true
   },
   "outputs": [],
   "source": [
    "def get_batch(images, batch_size, index):\n",
    "    start_idx = index * batch_size\n",
    "    end_idx = (index + 1) * batch_size        \n",
    "    batch  = images[start_idx: end_idx]\n",
    "    return batch"
   ]
  },
  {
   "cell_type": "code",
   "execution_count": 4,
   "metadata": {
    "collapsed": false
   },
   "outputs": [],
   "source": [
    "image_size = 28 * 28\n",
    "\n",
    "input_shape=[None, image_size]\n",
    "encoder_internal_dim=2048\n",
    "decoder_internal_dim=2048\n",
    "latent_dim=2\n",
    "\n",
    "x = tf.placeholder(tf.float32, input_shape)\n",
    "\n",
    "softplus = tf.nn.softplus\n",
    "\n",
    "h_enc1 = layer(x, [image_size, encoder_internal_dim], activation=softplus)\n",
    "h_enc2 = layer(h_enc1, [encoder_internal_dim, encoder_internal_dim], activation=softplus)\n",
    "h_enc3 = layer(h_enc2, [encoder_internal_dim, encoder_internal_dim], activation=softplus)\n",
    "\n",
    "W_mu = weight_variable([encoder_internal_dim, latent_dim])\n",
    "b_mu = bias_variable([latent_dim])\n",
    "\n",
    "W_log_sigma = weight_variable([encoder_internal_dim, latent_dim])\n",
    "b_log_sigma = bias_variable([latent_dim])\n",
    "\n",
    "    \n",
    "z_mu = tf.matmul(h_enc3, W_mu) + b_mu\n",
    "z_log_sigma = tf.matmul(h_enc3, W_log_sigma) + b_log_sigma\n",
    "\n",
    "# reparametarization trick\n",
    "\n",
    "# noise gaussian ε ~ N(0, 1)\n",
    "epsilon = tf.random_normal(tf.stack([tf.shape(x)[0], latent_dim]))\n",
    "\n",
    "# z = μ+σ^(1/2)*ε\n",
    "z = z_mu + tf.exp(z_log_sigma/2) * epsilon\n",
    "\n",
    "\n",
    "h_dec1 = layer(z, [latent_dim, decoder_internal_dim], activation=softplus)\n",
    "h_dec2 = layer(h_dec1, [decoder_internal_dim, decoder_internal_dim], activation=softplus)\n",
    "h_dec3 = layer(h_dec2, [decoder_internal_dim, decoder_internal_dim], activation=softplus)\n",
    "\n",
    "# log(p(x|z)) (p is Bernoulli) reconstruction loss\n",
    "y = layer(h_dec3, [decoder_internal_dim, image_size], activation=tf.nn.sigmoid)\n",
    "log_px_given_z = -tf.reduce_sum(x * tf.log(y + 1e-10) + (1 - x) * tf.log(1 - y + 1e-10), 1)\n",
    "\n",
    "\n",
    "# KLD(q(z|x)||p(z)) ~ -(1/2) * sum(1 + log(sigma^2) - mu^2 - sigma^2)\n",
    "kl_div = - (1/2)* tf.reduce_sum(1.0 + 2.0 * z_log_sigma - tf.square(z_mu) - tf.exp(2.0 * z_log_sigma),1)\n",
    "\n",
    "    \n",
    "cost = tf.reduce_mean(log_px_given_z + kl_div)\n",
    "\n"
   ]
  },
  {
   "cell_type": "code",
   "execution_count": 5,
   "metadata": {
    "collapsed": false
   },
   "outputs": [],
   "source": [
    "% rm -rf img/\n",
    "% mkdir img/\n",
    "\n",
    "def create_images(i, sess, test_images, num_examples=20, image_size=28*28):\n",
    "    h = w = int(np.sqrt(image_size))\n",
    "    \n",
    "    original = get_batch(test_images, num_examples, 0)\n",
    "    reconstruction = sess.run(y, feed_dict={x: original})\n",
    "    \n",
    "    fig, axs = plt.subplots(2, num_examples, figsize=(10, 2))\n",
    "    for example_i in range(num_examples):\n",
    "        axs[0][example_i].imshow(np.reshape(original[example_i, :], (h, w)),cmap='gray')\n",
    "        axs[1][example_i].imshow(np.reshape(np.reshape(reconstruction[example_i, ...], (image_size,)),(h, w)),cmap='gray')\n",
    "        axs[0][example_i].axis('off')\n",
    "        axs[1][example_i].axis('off')\n",
    "    fig.savefig('img/reconstruction_%08d.png' % i)\n",
    "\n",
    "    \n",
    "    \n",
    "\n",
    "def create_latent_scatter_images(i, sess, test_images,test_labels):\n",
    "    zs = sess.run(z, feed_dict={x: test_images})\n",
    "    fig, ax = plt.subplots(1, 1)\n",
    "    ax.clear()\n",
    "    ax.scatter(zs[:, 0], zs[:, 1], c=np.argmax(test_labels, 1), alpha=0.2)\n",
    "    ax.set_xlim([-6, 6])\n",
    "    ax.set_ylim([-6, 6])\n",
    "    ax.axis(\"off\")\n",
    "    fig.savefig(\"img/latent_scatter_%08d.png\"% i)"
   ]
  },
  {
   "cell_type": "code",
   "execution_count": 6,
   "metadata": {
    "collapsed": false
   },
   "outputs": [],
   "source": [
    "def train(train_images, validation_images, test_images, test_labels, image_size, learning_rate = 0.001):\n",
    "\n",
    "    sess = tf.Session()\n",
    "    optimizer = tf.train.AdamOptimizer(learning_rate).minimize(cost)\n",
    "    sess.run(tf.global_variables_initializer())\n",
    "\n",
    "    \n",
    "    batch_size = 100\n",
    "    num_epochs = 100\n",
    "\n",
    "    num_train_batches = len(train_images) // batch_size\n",
    "    num_validation_batches = len(validation_images) // batch_size\n",
    "\n",
    "    print(\"num of train batches: \", num_train_batches)\n",
    "    print(\"num of validation batches: \", num_validation_batches)\n",
    "\n",
    "    i = 0\n",
    "    for epoch in range(num_epochs):\n",
    "        print(\"epoch No.\", epoch)\n",
    "        \n",
    "        for batch_idx in range(num_train_batches):            \n",
    "            batch  = get_batch(train_images, batch_size, batch_idx)\n",
    "            sess.run(optimizer, feed_dict={x: batch})\n",
    "         \n",
    "        train_cost = sess.run(cost, feed_dict={x: batch})\n",
    "        i += 1\n",
    "        create_images(i, sess, test_images, num_examples=20, image_size=image_size)\n",
    "        create_latent_scatter_images(i, sess, test_images, test_labels)\n",
    "        print('train cost per a batch: ', train_cost)\n",
    "      \n",
    "\n",
    "        valid_cost = 0\n",
    "        for i in range(num_validation_batches):\n",
    "            batch  = get_batch(validation_images, batch_size, i)\n",
    "            valid_cost += sess.run(cost, feed_dict={x: batch})\n",
    "        print('validation cost per a batch:', valid_cost / num_validation_batches)\n"
   ]
  },
  {
   "cell_type": "code",
   "execution_count": null,
   "metadata": {
    "collapsed": false
   },
   "outputs": [
    {
     "name": "stdout",
     "output_type": "stream",
     "text": [
      "Extracting MNIST_DATA/train-images-idx3-ubyte.gz\n",
      "Extracting MNIST_DATA/train-labels-idx1-ubyte.gz\n",
      "Extracting MNIST_DATA/t10k-images-idx3-ubyte.gz\n",
      "Extracting MNIST_DATA/t10k-labels-idx1-ubyte.gz\n"
     ]
    }
   ],
   "source": [
    "import tensorflow.examples.tutorials.mnist.input_data as input_data\n",
    "mnist = input_data.read_data_sets('MNIST_DATA', one_hot=True)"
   ]
  },
  {
   "cell_type": "code",
   "execution_count": null,
   "metadata": {
    "collapsed": false
   },
   "outputs": [
    {
     "name": "stdout",
     "output_type": "stream",
     "text": [
      "num of train batches:  550\n",
      "num of validation batches:  50\n",
      "epoch No. 0\n",
      "train cost per a batch:  207.705\n",
      "validation cost per a batch: 210.610833435\n",
      "epoch No. 1\n",
      "train cost per a batch:  208.258\n",
      "validation cost per a batch: 208.829506836\n",
      "epoch No. 2\n"
     ]
    }
   ],
   "source": [
    "train_images = mnist.train.images\n",
    "validation_images = mnist.validation.images\n",
    "test_images = mnist.test.images\n",
    "test_labels = mnist.test.labels\n",
    "\n",
    "train(train_images, validation_images, test_images, test_labels, image_size)"
   ]
  },
  {
   "cell_type": "code",
   "execution_count": null,
   "metadata": {
    "collapsed": false
   },
   "outputs": [],
   "source": []
  },
  {
   "cell_type": "code",
   "execution_count": null,
   "metadata": {
    "collapsed": true
   },
   "outputs": [],
   "source": []
  }
 ],
 "metadata": {
  "anaconda-cloud": {},
  "kernelspec": {
   "display_name": "Python 3",
   "language": "python",
   "name": "python3"
  },
  "language_info": {
   "codemirror_mode": {
    "name": "ipython",
    "version": 3
   },
   "file_extension": ".py",
   "mimetype": "text/x-python",
   "name": "python",
   "nbconvert_exporter": "python",
   "pygments_lexer": "ipython3",
   "version": "3.6.0"
  }
 },
 "nbformat": 4,
 "nbformat_minor": 2
}
