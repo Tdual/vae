{
 "cells": [
  {
   "cell_type": "code",
   "execution_count": 1,
   "metadata": {
    "collapsed": true
   },
   "outputs": [],
   "source": [
    "import tensorflow as tf\n",
    "import matplotlib.pyplot as plt\n",
    "import numpy as np"
   ]
  },
  {
   "cell_type": "code",
   "execution_count": 2,
   "metadata": {
    "collapsed": true
   },
   "outputs": [],
   "source": [
    "def weight_variable(shape):\n",
    "    return tf.Variable(tf.random_normal(shape, mean=0.0, stddev=0.01))\n",
    "\n",
    "def bias_variable(shape):\n",
    "    return tf.Variable(tf.random_normal(shape, mean=0.0, stddev=0.01))\n",
    "\n",
    "def layer(x, shape, activation):\n",
    "    W = weight_variable(shape)\n",
    "    b = bias_variable([shape[1]])\n",
    "    return activation(tf.matmul(x, W) + b)"
   ]
  },
  {
   "cell_type": "code",
   "execution_count": 3,
   "metadata": {
    "collapsed": true
   },
   "outputs": [],
   "source": [
    "def get_batch(images, batch_size, index):\n",
    "    start_idx = index * batch_size\n",
    "    end_idx = (index + 1) * batch_size        \n",
    "    batch  = images[start_idx: end_idx]\n",
    "    return batch"
   ]
  },
  {
   "cell_type": "code",
   "execution_count": 4,
   "metadata": {
    "collapsed": true
   },
   "outputs": [],
   "source": [
    "def montage_batch(images):\n",
    "    img_h = images.shape[1]\n",
    "    img_w = images.shape[2]\n",
    "    n_plots = int(np.ceil(np.sqrt(images.shape[0])))\n",
    "    m = np.ones(\n",
    "        (images.shape[1] * n_plots + n_plots + 1,\n",
    "         images.shape[2] * n_plots + n_plots + 1, 3)) * 0.5\n",
    "\n",
    "    for i in range(n_plots):\n",
    "        for j in range(n_plots):\n",
    "            this_filter = i * n_plots + j\n",
    "            if this_filter < images.shape[0]:\n",
    "                this_img = images[this_filter, ...]\n",
    "                m[1 + i + i * img_h:1 + i + (i + 1) * img_h,\n",
    "                  1 + j + j * img_w:1 + j + (j + 1) * img_w, :] = this_img\n",
    "    return m"
   ]
  },
  {
   "cell_type": "code",
   "execution_count": 5,
   "metadata": {
    "collapsed": false
   },
   "outputs": [
    {
     "name": "stdout",
     "output_type": "stream",
     "text": [
      "mkdir: img/: File exists\r\n"
     ]
    }
   ],
   "source": [
    "% mkdir img/\n",
    "\n",
    "def create_images(i, num_examples, sess, test_images, test_labels):\n",
    "    xs = test_images\n",
    "    ys =  test_labels\n",
    "\n",
    "    \n",
    "    fig_manifold, ax_manifold = plt.subplots(1, 1)\n",
    "    fig_reconstruction, axs_reconstruction = plt.subplots(2, num_examples, figsize=(10, 2))\n",
    "    fig_image_manifold, ax_image_manifold = plt.subplots(1, 1)\n",
    "    \n",
    "    # Plot example reconstructions from latent layer\n",
    "    imgs = []\n",
    "    for img_i in np.linspace(-3, 3, num_examples):\n",
    "        for img_j in np.linspace(-3, 3, num_examples):\n",
    "            recon = sess.run( y, \n",
    "                feed_dict={\n",
    "                    z: np.array([[img_i, img_j]], dtype=np.float32)\n",
    "                }\n",
    "            )\n",
    "            imgs.append(np.reshape(recon, (1, 28, 28, 1)))\n",
    "    imgs_cat = np.concatenate(imgs)\n",
    "    ax_manifold.imshow(montage_batch(imgs_cat))\n",
    "    fig_manifold.savefig(\"img/manifold_%08d.png\" % i)\n",
    "\n",
    "\n",
    "    # Plot example reconstructions\n",
    "    test_xs = get_batch(test_images, num_examples,0)\n",
    "    recon = sess.run(y, feed_dict={x: test_xs})\n",
    "    for example_i in range(num_examples):\n",
    "        axs_reconstruction[0][example_i].imshow(\n",
    "            np.reshape(test_xs[example_i, :], (28, 28)),\n",
    "            cmap='gray')\n",
    "        axs_reconstruction[1][example_i].imshow(\n",
    "            np.reshape(\n",
    "                np.reshape(recon[example_i, ...], (784,)),\n",
    "                (28, 28)),\n",
    "            cmap='gray')\n",
    "        axs_reconstruction[0][example_i].axis('off')\n",
    "        axs_reconstruction[1][example_i].axis('off')\n",
    "    fig_reconstruction.savefig('img/reconstruction_%08d.png' % i)\n",
    "\n",
    "    \n",
    "    \n",
    "    # Plot manifold of latent layer\n",
    "    zs = sess.run(z, feed_dict={x: xs})\n",
    "    ax_image_manifold.clear()\n",
    "    ax_image_manifold.scatter(zs[:, 0], zs[:, 1],\n",
    "        c=np.argmax(ys, 1), alpha=0.2)\n",
    "    ax_image_manifold.set_xlim([-6, 6])\n",
    "    ax_image_manifold.set_ylim([-6, 6])\n",
    "    ax_image_manifold.axis('off')\n",
    "    fig_image_manifold.savefig('img/image_manifold_%08d.png' % i)"
   ]
  },
  {
   "cell_type": "code",
   "execution_count": 6,
   "metadata": {
    "collapsed": false
   },
   "outputs": [],
   "source": [
    "image_size = 28 * 28\n",
    "\n",
    "input_shape=[None, image_size]\n",
    "encoder_internal_dim=2048\n",
    "decoder_internal_dim=2048\n",
    "latent_dim=2\n",
    "\n",
    "x = tf.placeholder(tf.float32, input_shape)\n",
    "\n",
    "softplus = tf.nn.softplus\n",
    "\n",
    "h_enc1 = layer(x, [image_size, encoder_internal_dim], activation=softplus)\n",
    "h_enc2 = layer(h_enc1, [encoder_internal_dim, encoder_internal_dim], activation=softplus)\n",
    "h_enc3 = layer(h_enc2, [encoder_internal_dim, encoder_internal_dim], activation=softplus)\n",
    "\n",
    "W_mu = weight_variable([encoder_internal_dim, latent_dim])\n",
    "b_mu = bias_variable([latent_dim])\n",
    "\n",
    "W_log_sigma = weight_variable([encoder_internal_dim, latent_dim])\n",
    "b_log_sigma = bias_variable([latent_dim])\n",
    "\n",
    "    \n",
    "z_mu = tf.matmul(h_enc3, W_mu) + b_mu\n",
    "z_log_sigma = tf.matmul(h_enc3, W_log_sigma) + b_log_sigma\n",
    "\n",
    "# reparametarization trick\n",
    "\n",
    "# noise gaussian ε ~ N(0, 1)\n",
    "epsilon = tf.random_normal(tf.stack([tf.shape(x)[0], latent_dim]))\n",
    "\n",
    "# z = μ+σ^(1/2)*ε\n",
    "z = z_mu + tf.exp(z_log_sigma/2) * epsilon\n",
    "\n",
    "\n",
    "h_dec1 = layer(z, [latent_dim, decoder_internal_dim], activation=softplus)\n",
    "h_dec2 = layer(h_dec1, [decoder_internal_dim, decoder_internal_dim], activation=softplus)\n",
    "h_dec3 = layer(h_dec2, [decoder_internal_dim, decoder_internal_dim], activation=softplus)\n",
    "\n",
    "# log(p(x|z)) (p is Bernoulli) reconstruction loss\n",
    "y = layer(h_dec3, [decoder_internal_dim, image_size], activation=tf.nn.sigmoid)\n",
    "log_px_given_z = -tf.reduce_sum(x * tf.log(y + 1e-10) + (1 - x) * tf.log(1 - y + 1e-10), 1)\n",
    "\n",
    "\n",
    "# KLD(q(z|x)||p(z)) ~ -(1/2) * sum(1 + log(sigma^2) - mu^2 - sigma^2)\n",
    "kl_div = - (1/2)* tf.reduce_sum(1.0 + 2.0 * z_log_sigma - tf.square(z_mu) - tf.exp(2.0 * z_log_sigma),1)\n",
    "\n",
    "    \n",
    "cost = tf.reduce_mean(log_px_given_z + kl_div)\n",
    "\n"
   ]
  },
  {
   "cell_type": "code",
   "execution_count": 11,
   "metadata": {
    "collapsed": false
   },
   "outputs": [],
   "source": [
    "def train(train_images, validation_images, test_images, test_labels, learning_rate = 0.001):\n",
    "\n",
    "    \n",
    "    \n",
    "    sess = tf.Session()\n",
    "    optimizer = tf.train.AdamOptimizer(learning_rate).minimize(cost)\n",
    "    sess.run(tf.global_variables_initializer())\n",
    "\n",
    "    \n",
    "    batch_size = 100\n",
    "    num_epochs = 1\n",
    "\n",
    "    num_train_batches = len(train_images) // batch_size\n",
    "    num_validation_batches = len(validation_images) // batch_size\n",
    "\n",
    "    print(\"num of train batches: \", num_train_batches)\n",
    "    print(\"num of validation batches: \", num_validation_batches)\n",
    "\n",
    "    i = 0\n",
    "    for epoch in range(num_epochs):\n",
    "        print(\"epoch No.\", epoch)\n",
    "        \n",
    "        for batch_idx in range(num_train_batches):            \n",
    "            batch  = get_batch(train_images, batch_size, batch_idx)\n",
    "            \n",
    "            # train\n",
    "            sess.run(optimizer,feed_dict={x: batch})\n",
    "            \n",
    "            if batch_idx % 10 == 0:\n",
    "                \n",
    "                train_cost = sess.run(cost, feed_dict={x: batch})\n",
    "                i += 1\n",
    "                create_images(i, 20, sess, test_images, test_labels)\n",
    "                print('train cost per a batch: ', train_cost)\n",
    "      \n",
    "\n",
    "\n",
    "        valid_cost = 0\n",
    "        for i in range(num_validation_batches):\n",
    "            batch  = get_batch(validation_images, batch_size, i)\n",
    "            valid_cost += sess.run(cost, feed_dict={x: batch})\n",
    "        print('validation cost per a batch:', valid_cost / num_validation_batches)\n"
   ]
  },
  {
   "cell_type": "code",
   "execution_count": 9,
   "metadata": {
    "collapsed": false
   },
   "outputs": [
    {
     "name": "stdout",
     "output_type": "stream",
     "text": [
      "Successfully downloaded train-images-idx3-ubyte.gz 9912422 bytes.\n",
      "Extracting MNIST_DATA/train-images-idx3-ubyte.gz\n",
      "Successfully downloaded train-labels-idx1-ubyte.gz 28881 bytes.\n",
      "Extracting MNIST_DATA/train-labels-idx1-ubyte.gz\n",
      "Successfully downloaded t10k-images-idx3-ubyte.gz 1648877 bytes.\n",
      "Extracting MNIST_DATA/t10k-images-idx3-ubyte.gz\n",
      "Successfully downloaded t10k-labels-idx1-ubyte.gz 4542 bytes.\n",
      "Extracting MNIST_DATA/t10k-labels-idx1-ubyte.gz\n"
     ]
    }
   ],
   "source": [
    "import tensorflow.examples.tutorials.mnist.input_data as input_data\n",
    "mnist = input_data.read_data_sets('MNIST_DATA', one_hot=True)"
   ]
  },
  {
   "cell_type": "code",
   "execution_count": null,
   "metadata": {
    "collapsed": false
   },
   "outputs": [
    {
     "name": "stdout",
     "output_type": "stream",
     "text": [
      "num of train batches:  550\n",
      "num of validation batches:  50\n",
      "epoch No. 0\n",
      "train cost per a batch:  4.75853e+13\n",
      "train cost per a batch:  245.436\n",
      "train cost per a batch:  221.135\n",
      "train cost per a batch:  231.673\n",
      "train cost per a batch:  215.627\n",
      "train cost per a batch:  221.218\n"
     ]
    },
    {
     "name": "stderr",
     "output_type": "stream",
     "text": [
      "/Users/tdual/anaconda2/envs/py3.6/lib/python3.6/site-packages/matplotlib/pyplot.py:524: RuntimeWarning: More than 20 figures have been opened. Figures created through the pyplot interface (`matplotlib.pyplot.figure`) are retained until explicitly closed and may consume too much memory. (To control this warning, see the rcParam `figure.max_open_warning`).\n",
      "  max_open_warning, RuntimeWarning)\n"
     ]
    },
    {
     "name": "stdout",
     "output_type": "stream",
     "text": [
      "train cost per a batch:  225.954\n",
      "train cost per a batch:  215.37\n",
      "train cost per a batch:  235.871\n",
      "train cost per a batch:  237.109\n",
      "train cost per a batch:  215.661\n",
      "train cost per a batch:  215.611\n",
      "train cost per a batch:  209.666\n",
      "train cost per a batch:  208.207\n",
      "train cost per a batch:  211.605\n",
      "train cost per a batch:  231.556\n",
      "train cost per a batch:  213.134\n",
      "train cost per a batch:  231.656\n",
      "train cost per a batch:  232.033\n"
     ]
    }
   ],
   "source": [
    "train_images = mnist.train.images\n",
    "validation_images = mnist.validation.images\n",
    "test_images = mnist.test.images\n",
    "test_labels = mnist.test.labels\n",
    "\n",
    "train(train_images, validation_images, test_images, test_labels)"
   ]
  },
  {
   "cell_type": "code",
   "execution_count": null,
   "metadata": {
    "collapsed": true
   },
   "outputs": [],
   "source": []
  }
 ],
 "metadata": {
  "anaconda-cloud": {},
  "kernelspec": {
   "display_name": "Python 3",
   "language": "python",
   "name": "python3"
  },
  "language_info": {
   "codemirror_mode": {
    "name": "ipython",
    "version": 3
   },
   "file_extension": ".py",
   "mimetype": "text/x-python",
   "name": "python",
   "nbconvert_exporter": "python",
   "pygments_lexer": "ipython3",
   "version": "3.6.0"
  }
 },
 "nbformat": 4,
 "nbformat_minor": 2
}
