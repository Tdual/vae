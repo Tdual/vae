{
 "cells": [
  {
   "cell_type": "code",
   "execution_count": null,
   "metadata": {
    "collapsed": true
   },
   "outputs": [],
   "source": [
    "import tensorflow as tf\n",
    "import os\n",
    "import matplotlib.pyplot as plt\n",
    "import numpy as np\n",
    "import datetime\n",
    "from glob import glob\n",
    "import scipy\n",
    "import scipy.misc\n",
    "import pickle\n",
    "from tqdm import tqdm_notebook as tqdm\n",
    "%matplotlib inline  "
   ]
  },
  {
   "cell_type": "code",
   "execution_count": null,
   "metadata": {
    "collapsed": true
   },
   "outputs": [],
   "source": [
    "def get_batch(images, batch_size, index):\n",
    "    start_idx = index * batch_size\n",
    "    end_idx = (index + 1) * batch_size        \n",
    "    batch  = images[start_idx: end_idx]\n",
    "    return batch"
   ]
  },
  {
   "cell_type": "code",
   "execution_count": null,
   "metadata": {
    "collapsed": true
   },
   "outputs": [],
   "source": [
    "def weight_variable(shape):\n",
    "    return tf.Variable(tf.random_normal(shape, mean=0.0, stddev=0.01))\n",
    "\n",
    "def bias_variable(shape):\n",
    "    return tf.Variable(tf.random_normal(shape, mean=0.0, stddev=0.01))\n",
    "\n",
    "def layer(x, shape, activation):\n",
    "    W = weight_variable(shape)\n",
    "    b = bias_variable([shape[1]])\n",
    "    return activation(tf.matmul(x, W) + b)"
   ]
  },
  {
   "cell_type": "code",
   "execution_count": null,
   "metadata": {
    "collapsed": false
   },
   "outputs": [],
   "source": [
    "image_size = 64 * 64 * 3\n",
    "latent_dim = 100\n",
    "encoder_internal_dim = 2048\n",
    "decoder_internal_dim = 2048\n",
    "\n",
    "input_shape = [None, image_size]\n",
    "x = tf.placeholder(tf.float32, input_shape)\n",
    "\n",
    "softplus = tf.nn.softplus\n",
    "tanh = tf.nn.tanh\n",
    "\n",
    "h_enc1 = layer(x, [image_size, encoder_internal_dim], activation=softplus)\n",
    "h_enc2 = layer(h_enc1, [encoder_internal_dim, encoder_internal_dim], activation=softplus)\n",
    "h_enc3 = layer(h_enc2, [encoder_internal_dim, encoder_internal_dim], activation=softplus)\n",
    "\n",
    "W_mu = weight_variable([encoder_internal_dim, latent_dim])\n",
    "b_mu = bias_variable([latent_dim])\n",
    "\n",
    "W_log_sigma = weight_variable([encoder_internal_dim, latent_dim])\n",
    "b_log_sigma = bias_variable([latent_dim])\n",
    "\n",
    "    \n",
    "z_mu = tf.matmul(h_enc3, W_mu) + b_mu\n",
    "z_log_sigma = tf.matmul(h_enc3, W_log_sigma) + b_log_sigma\n",
    "\n",
    "# reparametarization trick\n",
    "\n",
    "# noise gaussian ε ~ N(0, 1)\n",
    "epsilon = tf.random_normal(tf.stack([tf.shape(x)[0], latent_dim]))\n",
    "\n",
    "# z = μ+σ^(1/2)*ε\n",
    "z = z_mu + tf.exp(z_log_sigma/2) * epsilon\n",
    "\n",
    "\n",
    "h_dec1 = layer(z, [latent_dim, decoder_internal_dim], activation=softplus)\n",
    "h_dec2 = layer(h_dec1, [decoder_internal_dim, decoder_internal_dim], activation=softplus)\n",
    "h_dec3 = layer(h_dec2, [decoder_internal_dim, decoder_internal_dim], activation=softplus)\n",
    "\n",
    "# log(p(x|z)) (p is Bernoulli) reconstruction loss\n",
    "y = layer(h_dec3, [decoder_internal_dim, image_size], activation=tf.nn.sigmoid)\n",
    "recon = -tf.reduce_sum(x * tf.log(y + 1e-10) + (1 - x) * tf.log(1 - y + 1e-10), 1)/image_size\n",
    "\n",
    "\n",
    "# KL(q(z|x)||p(z)) ~ -(1/2) * sum(1 + log(sigma^2) - mu^2 - sigma^2)\n",
    "kl_div = - (1/2)* tf.reduce_sum(1.0 + 2.0 * z_log_sigma - tf.square(z_mu) - tf.exp(2.0 * z_log_sigma),1)/image_size\n",
    "\n",
    " \n",
    "\n",
    "cost = tf.reduce_mean(recon + kl_div)\n",
    "cost_kl = tf.reduce_mean(kl_div)\n",
    "cost_recon = tf.reduce_mean(recon)\n",
    "saver = tf.train.Saver()"
   ]
  },
  {
   "cell_type": "code",
   "execution_count": null,
   "metadata": {
    "collapsed": false
   },
   "outputs": [],
   "source": [
    "if not os.path.exists(\"./model/\"):\n",
    "    os.mkdir(\"./model/\")\n",
    "if not os.path.exists(\"./pickle/\"):\n",
    "    os.mkdir(\"./pickle/\")"
   ]
  },
  {
   "cell_type": "code",
   "execution_count": null,
   "metadata": {
    "collapsed": false
   },
   "outputs": [],
   "source": [
    "% rm -rf img/\n",
    "% mkdir img/\n",
    "\n",
    "\n",
    "def create_images(i, sess, test_images, num_examples=20, image_size=28*28):\n",
    "    h = w = int(np.sqrt(image_size/3))\n",
    "    \n",
    "    original = get_batch(test_images, num_examples, 0)\n",
    "    reconstruction = sess.run(y, feed_dict={x: original})\n",
    "    \n",
    "    fig, axs = plt.subplots(2, num_examples, figsize=(20, 2))\n",
    "    for example_i in range(num_examples):\n",
    "        axs[0][example_i].imshow(np.reshape(original[example_i, :], (h, w, 3)))\n",
    "        axs[1][example_i].imshow(np.reshape(np.reshape(reconstruction[example_i, ...], (image_size,)),(h, w, 3)))\n",
    "        axs[0][example_i].axis('off')\n",
    "        axs[1][example_i].axis('off')\n",
    "    fig.savefig('img/reconstruction_%08d.png' % i)\n",
    "    plt.close()\n",
    "\n",
    "    \n",
    "def create_latent_scatter_images(i, sess, test_images,test_labels):\n",
    "    zs = sess.run(z, feed_dict={x: test_images})\n",
    "    fig, ax = plt.subplots(1, 1)\n",
    "    ax.clear()\n",
    "    ax.scatter(zs[:, 0], zs[:, 1], c=np.argmax(test_labels, 1), alpha=0.2)\n",
    "    ax.set_xlim([-6, 6])\n",
    "    ax.set_ylim([-6, 6])\n",
    "    ax.axis(\"off\")\n",
    "    fig.savefig(\"img/latent_scatter_%08d.png\"% i)\n",
    "    plt.close()"
   ]
  },
  {
   "cell_type": "code",
   "execution_count": null,
   "metadata": {
    "collapsed": false
   },
   "outputs": [],
   "source": [
    "m = glob(os.path.join(\"./model/\", \"model*\"))\n",
    "latest_ckpt = sorted(m)[-1].split(\".meta\")[0]\n",
    "latest_ckpt"
   ]
  },
  {
   "cell_type": "code",
   "execution_count": null,
   "metadata": {
    "collapsed": false
   },
   "outputs": [],
   "source": [
    "def train(train_images, validation_images, batch_size=100, image_size=28*28, learning_rate = 0.005):\n",
    "    test_images = validation_images[:10]\n",
    "    sess = tf.Session()\n",
    "    optimizer = tf.train.AdamOptimizer(learning_rate).minimize(cost)\n",
    "    sess.run(tf.global_variables_initializer())\n",
    "    if latest_ckpt:\n",
    "        saver.restore(sess, latest_ckpt)\n",
    "    \n",
    "    num_epochs = 10000\n",
    "\n",
    "    num_train_batches = len(train_images) // batch_size\n",
    "    num_validation_batches = len(validation_images) // batch_size\n",
    "\n",
    "    print(\"num of train batches: \", num_train_batches)\n",
    "    print(\"num of validation batches: \", num_validation_batches)\n",
    "    create_images(0, sess, test_images, num_examples=10, image_size=image_size)\n",
    "    \n",
    "    for epoch in range(num_epochs):\n",
    "        print(\"epoch no.\", epoch)\n",
    "        \n",
    "        for batch_idx in tqdm(range(num_train_batches)):            \n",
    "            batch  = get_batch(train_images, batch_size, batch_idx)\n",
    "            sess.run(optimizer, feed_dict={x: batch})\n",
    "         \n",
    "        train_cost = sess.run(cost, feed_dict={x: batch})\n",
    "        print(\"train cost per a batch: \", train_cost)\n",
    "        create_images(epoch, sess, test_images, num_examples=10, image_size=image_size)\n",
    "        #create_latent_scatter_images(epoch, sess, test_images, test_labels)\n",
    "        print(\"cost_kl: \", sess.run(cost_kl, feed_dict={x: batch}))\n",
    "        print(\"cost_recon: \", sess.run(cost_recon, feed_dict={x: batch}))\n",
    "      \n",
    "\n",
    "        valid_cost = 0\n",
    "        for j in range(num_validation_batches):\n",
    "            batch  = get_batch(validation_images, batch_size, j)\n",
    "            valid_cost += sess.run(cost, feed_dict={x: batch})\n",
    "        print(\"validation cost per a batch: \", valid_cost / num_validation_batches)\n",
    "        now = datetime.datetime.now().strftime('%Y_%m_%d_%H_%M_%S')\n",
    "        save_path = saver.save(sess, \"model/model_{}.ckpt\".format(now))\n",
    "        print(\"model saved in file: %s\" % save_path)\n"
   ]
  },
  {
   "cell_type": "code",
   "execution_count": null,
   "metadata": {
    "collapsed": false
   },
   "outputs": [],
   "source": [
    "def get_z(images):\n",
    "    batch_size = 50\n",
    "    n_batches = 1 + len(images) // batch_size\n",
    "    print(\"num of  batches: \", n_batches)\n",
    "    sess = tf.Session()\n",
    "    sess.run(tf.global_variables_initializer())\n",
    "    if latest_ckpt:\n",
    "        saver.restore(sess, latest_ckpt)\n",
    "    z_list = []\n",
    "    for idx in tqdm(range(n_batches)):\n",
    "        batch  = get_batch(images, batch_size, idx)\n",
    "        z_list.append(sess.run(z, feed_dict={x: batch}))\n",
    "    return np.concatenate(z_list, axis=0)"
   ]
  },
  {
   "cell_type": "code",
   "execution_count": null,
   "metadata": {
    "collapsed": true
   },
   "outputs": [],
   "source": []
  },
  {
   "cell_type": "code",
   "execution_count": null,
   "metadata": {
    "collapsed": true
   },
   "outputs": [],
   "source": [
    "def imread(path):\n",
    "    return scipy.misc.imread(path).astype(np.float)\n",
    "\n",
    "def resize_width(image, width=64.):\n",
    "    h, w = np.shape(image)[:2]\n",
    "    return scipy.misc.imresize(image,[int((float(h)/w)*width),width])\n",
    "        \n",
    "def center_crop(x, height=64):\n",
    "    h= np.shape(x)[0]\n",
    "    j = int(round((h - height)/2.))\n",
    "    return x[j:j+height,:,:]\n",
    "\n",
    "def get_image(image_path, width=64, height=64):\n",
    "    return center_crop(resize_width(imread(image_path), width = width),height=height)\n",
    "\n",
    "def load_img_data(data):\n",
    "    images = np.zeros((len(data),dim*dim*3), dtype = np.float)\n",
    "    for i, d in enumerate(tqdm(data)):\n",
    "        image = get_image(d, dim,dim)\n",
    "        images[i] = image.flatten()/255.\n",
    "    return images"
   ]
  },
  {
   "cell_type": "code",
   "execution_count": null,
   "metadata": {
    "collapsed": false
   },
   "outputs": [],
   "source": [
    "data = glob(os.path.join(\"./data/celebA\", \"*.jpg\"))\n",
    "data = np.sort(data)\n",
    "print(data[0:10])\n",
    "print(\"num of data: \", len(data))"
   ]
  },
  {
   "cell_type": "code",
   "execution_count": null,
   "metadata": {
    "collapsed": true
   },
   "outputs": [],
   "source": [
    "#data = data[:10000]"
   ]
  },
  {
   "cell_type": "code",
   "execution_count": null,
   "metadata": {
    "collapsed": false
   },
   "outputs": [],
   "source": [
    "dim = int(np.sqrt(image_size/3))\n",
    "test = get_image(data[0],dim,dim)\n",
    "fig, ax = plt.subplots(nrows=1,ncols=1, figsize=(10,3))\n",
    "ax.imshow(np.reshape(test, (dim,dim,3)), interpolation='nearest')"
   ]
  },
  {
   "cell_type": "code",
   "execution_count": null,
   "metadata": {
    "collapsed": false
   },
   "outputs": [],
   "source": [
    "image_batch_size = 1000\n",
    "n_image_batches = 1 + len(data) // image_batch_size\n",
    "\n",
    "if os.path.exists(\"./pickle/images_0.pickle\"):\n",
    "    print(\"loading from pickles\")\n",
    "    images_list = []\n",
    "    for i in tqdm(range(n_image_batches)):\n",
    "        file_name = \"./pickle/images_{}.pickle\".format(i)\n",
    "        with open(file_name, mode='rb') as f:\n",
    "            images_list.append(pickle.load(f))\n",
    "    images = np.concatenate(images_list, axis=0)\n",
    "    del images_list[:]\n",
    "    del images_list\n",
    "else:\n",
    "    images =  load_img_data(data)\n",
    "        \n",
    "    for i in tqdm(range(n_image_batches)):\n",
    "        image_batch = get_batch(images, image_batch_size, i)\n",
    "        file_name = \"./pickle/images_{}.pickle\".format(i)\n",
    "        with open(file_name ,mode='wb') as f:\n",
    "            pickle.dump(image_batch, f, protocol=4)"
   ]
  },
  {
   "cell_type": "code",
   "execution_count": null,
   "metadata": {
    "collapsed": false
   },
   "outputs": [],
   "source": [
    "%%time\n",
    "image_batch_size = 1000\n",
    "n_image_batches = 1 + len(data) // image_batch_size\n",
    "\n",
    "from concurrent.futures import ProcessPoolExecutor, as_completed\n",
    "\n",
    "def load_pickel(i):\n",
    "    file_name = \"./pickle/images_{}.pickle\".format(i)\n",
    "    with open(file_name, mode='rb') as f:\n",
    "        return pickle.load(f)\n",
    "    \n",
    "\n",
    "worker_num = 5\n",
    "task_num = n_image_batches\n",
    "with ProcessPoolExecutor(worker_num) as executor:\n",
    "    futures = []\n",
    "    for i in range(n_image_batches):\n",
    "        futures.append(executor.submit(load_pickel, i))\n",
    "images_list = [x.result() for x in as_completed(futures)]\n",
    "\n"
   ]
  },
  {
   "cell_type": "code",
   "execution_count": null,
   "metadata": {
    "collapsed": false
   },
   "outputs": [],
   "source": [
    "%%time\n",
    "image_batch_size = 1000\n",
    "n_image_batches = 1 + len(data) // image_batch_size\n",
    "images_list = []\n",
    "for i in tqdm(range(n_image_batches)):\n",
    "    file_name = \"./pickle/images_{}.pickle\".format(i)\n",
    "    with open(file_name, mode='rb') as f:\n",
    "        images_list.append(pickle.load(f))"
   ]
  },
  {
   "cell_type": "code",
   "execution_count": null,
   "metadata": {
    "collapsed": true
   },
   "outputs": [],
   "source": []
  },
  {
   "cell_type": "code",
   "execution_count": null,
   "metadata": {
    "collapsed": true
   },
   "outputs": [],
   "source": [
    "images_list = [x.result() for x in as_completed(futures)]\n",
    "images = np.concatenate(images_list, axis=0)\n",
    "del images_list[:]\n",
    "del images_list\n"
   ]
  },
  {
   "cell_type": "code",
   "execution_count": null,
   "metadata": {
    "collapsed": false,
    "scrolled": true
   },
   "outputs": [],
   "source": [
    "#images = load_img_data(data)"
   ]
  },
  {
   "cell_type": "code",
   "execution_count": null,
   "metadata": {
    "collapsed": false
   },
   "outputs": [],
   "source": [
    "len(images)"
   ]
  },
  {
   "cell_type": "code",
   "execution_count": null,
   "metadata": {
    "collapsed": true
   },
   "outputs": [],
   "source": []
  },
  {
   "cell_type": "code",
   "execution_count": null,
   "metadata": {
    "collapsed": false
   },
   "outputs": [],
   "source": [
    "images[0].shape"
   ]
  },
  {
   "cell_type": "code",
   "execution_count": null,
   "metadata": {
    "collapsed": false
   },
   "outputs": [],
   "source": [
    "test = images[-1]\n",
    "fig, ax = plt.subplots(nrows=1,ncols=1, figsize=(10,3))\n",
    "ax.imshow(np.reshape(test, (dim,dim,3)), interpolation='nearest')\n",
    "ax.axis('off')\n",
    "plt.show()"
   ]
  },
  {
   "cell_type": "code",
   "execution_count": null,
   "metadata": {
    "collapsed": false
   },
   "outputs": [],
   "source": [
    "batch_size = 128\n",
    "train_images = images[batch_size*2:]\n",
    "validation_images = images[:batch_size*2]"
   ]
  },
  {
   "cell_type": "code",
   "execution_count": null,
   "metadata": {
    "collapsed": false,
    "scrolled": false
   },
   "outputs": [],
   "source": [
    "train(train_images, validation_images, batch_size = batch_size, image_size=image_size, learning_rate = 0.001)"
   ]
  },
  {
   "cell_type": "code",
   "execution_count": null,
   "metadata": {
    "collapsed": false
   },
   "outputs": [],
   "source": [
    "z_list = get_z(images[:batch_size*2])"
   ]
  },
  {
   "cell_type": "code",
   "execution_count": null,
   "metadata": {
    "collapsed": false
   },
   "outputs": [],
   "source": [
    "len(z_list)"
   ]
  },
  {
   "cell_type": "code",
   "execution_count": null,
   "metadata": {
    "collapsed": false
   },
   "outputs": [],
   "source": [
    "from scipy.spatial import distance\n",
    "pairwise = distance.squareform(distance.pdist(z_list, metric=\"cosine\"))"
   ]
  },
  {
   "cell_type": "code",
   "execution_count": null,
   "metadata": {
    "collapsed": true
   },
   "outputs": [],
   "source": [
    "def similar_to(img_id, num=5, distance=False):\n",
    "    img = pairwise[img_id]\n",
    "    ids = np.argsort(img)[0: num] \n",
    "    if distance:\n",
    "        dist = np.sort(img)[0: num]\n",
    "        return [(x,y) for x, y in zip(ids, dist)]\n",
    "    else:\n",
    "        return ids\n",
    "\n",
    "def show_sim_image(img_id):\n",
    "    id_list = similar_to(img_id)\n",
    "    dim = int(np.sqrt(image_size/3))\n",
    "    fig, axs = plt.subplots(1, len(id_list), figsize=(20, 3))\n",
    "    for i, id in enumerate(id_list):\n",
    "        print(id)\n",
    "        test = get_image(data[id],dim,dim)\n",
    "        axs[i].imshow(np.reshape(test, (dim, dim, 3)),cmap='gray')\n",
    "        axs[i].axis('off')\n",
    "    plt.show()"
   ]
  },
  {
   "cell_type": "code",
   "execution_count": null,
   "metadata": {
    "collapsed": false
   },
   "outputs": [],
   "source": [
    "show_sim_image(0)"
   ]
  },
  {
   "cell_type": "code",
   "execution_count": null,
   "metadata": {
    "collapsed": true
   },
   "outputs": [],
   "source": []
  },
  {
   "cell_type": "code",
   "execution_count": null,
   "metadata": {
    "collapsed": true
   },
   "outputs": [],
   "source": []
  },
  {
   "cell_type": "code",
   "execution_count": null,
   "metadata": {
    "collapsed": false
   },
   "outputs": [],
   "source": [
    "fig, axs = plt.subplots(1, len(test_images), figsize=(20, 3))\n",
    "\n",
    "for i, img in enumerate(test_images):\n",
    "    axs[i].imshow(np.reshape(img, (dim, dim, 3)),cmap='gray')\n",
    "    axs[i].axis('off')\n",
    "plt.show()"
   ]
  },
  {
   "cell_type": "code",
   "execution_count": null,
   "metadata": {
    "collapsed": false
   },
   "outputs": [],
   "source": [
    "test_images = images[:30]\n",
    "f = [0,1]\n",
    "m = [1,0]\n",
    "test_labels=[f,m,f,m,m,f,f,m,m,m,f,f,m,f,f,m,m,m,f,f,m,f,m,f,m,m,m,m,f,f]\n",
    "sess = tf.Session()\n",
    "sess.run(tf.global_variables_initializer())\n",
    "if latest_ckpt:\n",
    "    saver.restore(sess, latest_ckpt)\n",
    "zs = sess.run(z, feed_dict={x: test_images})\n",
    "print(len(zs))\n",
    "fig, ax = plt.subplots(1, 1)\n",
    "ax.clear()\n",
    "ax.scatter(zs[:, 0], zs[:, 1],c=np.argmax(test_labels, 1))\n",
    "ax.set_xlim([-6, 6])\n",
    "ax.set_ylim([-6, 6])\n",
    "fig.show()\n"
   ]
  },
  {
   "cell_type": "code",
   "execution_count": null,
   "metadata": {
    "collapsed": true
   },
   "outputs": [],
   "source": []
  },
  {
   "cell_type": "code",
   "execution_count": null,
   "metadata": {
    "collapsed": true
   },
   "outputs": [],
   "source": []
  },
  {
   "cell_type": "code",
   "execution_count": null,
   "metadata": {
    "collapsed": false
   },
   "outputs": [],
   "source": [
    "sess = tf.Session()\n",
    "sess.run(tf.global_variables_initializer())\n",
    "if latest_ckpt:\n",
    "    saver.restore(sess, latest_ckpt)\n",
    "\n",
    "ds = tf.contrib.distributions\n",
    "mu, sigma = sess.run([tf.exp(z_mu),tf.exp(z_log_sigma)], feed_dict={x:validation_images})\n",
    "p = ds.Normal(loc=mu[0].tolist(), scale=sigma[0].tolist())\n",
    "q = ds.Normal(loc=mu[200].tolist(), scale=sigma[200].tolist())\n",
    "kl = tf.reduce_sum(ds.kl_divergence(p, q))\n",
    "result = sess.run(kl)\n"
   ]
  },
  {
   "cell_type": "code",
   "execution_count": null,
   "metadata": {
    "collapsed": false
   },
   "outputs": [],
   "source": [
    "result"
   ]
  },
  {
   "cell_type": "code",
   "execution_count": null,
   "metadata": {
    "collapsed": false
   },
   "outputs": [],
   "source": [
    "result"
   ]
  },
  {
   "cell_type": "code",
   "execution_count": null,
   "metadata": {
    "collapsed": false
   },
   "outputs": [],
   "source": [
    "h = p.sample([1000])\n",
    "_h = sess.run(h)\n",
    "__h = sorted([hi[2] for hi in _h])"
   ]
  },
  {
   "cell_type": "code",
   "execution_count": null,
   "metadata": {
    "collapsed": false
   },
   "outputs": [],
   "source": [
    "import numpy as np\n",
    "import scipy.stats as stats\n",
    "\n",
    "\n",
    "\n",
    "#fit = stats.norm.pdf(__h, mu[1][0], sigma[1][0])  #this is a fitting indeed\n",
    "\n",
    "#plt.plot(__h,fit,'-o')\n",
    "\n",
    "plt.hist(__h, normed=True)\n",
    "\n",
    "plt.show() "
   ]
  },
  {
   "cell_type": "code",
   "execution_count": null,
   "metadata": {
    "collapsed": true
   },
   "outputs": [],
   "source": []
  },
  {
   "cell_type": "code",
   "execution_count": null,
   "metadata": {
    "collapsed": true
   },
   "outputs": [],
   "source": []
  },
  {
   "cell_type": "code",
   "execution_count": null,
   "metadata": {
    "collapsed": true
   },
   "outputs": [],
   "source": []
  },
  {
   "cell_type": "code",
   "execution_count": null,
   "metadata": {
    "collapsed": true
   },
   "outputs": [],
   "source": [
    "# mnist"
   ]
  },
  {
   "cell_type": "code",
   "execution_count": null,
   "metadata": {
    "collapsed": false
   },
   "outputs": [],
   "source": [
    "import tensorflow.examples.tutorials.mnist.input_data as input_data\n",
    "mnist = input_data.read_data_sets('MNIST_DATA', one_hot=True)"
   ]
  },
  {
   "cell_type": "code",
   "execution_count": null,
   "metadata": {
    "collapsed": false
   },
   "outputs": [],
   "source": [
    "train_images = mnist.train.images\n",
    "validation_images = mnist.validation.images\n",
    "test_images = mnist.test.images\n",
    "test_labels = mnist.test.labels"
   ]
  },
  {
   "cell_type": "code",
   "execution_count": null,
   "metadata": {
    "collapsed": false
   },
   "outputs": [],
   "source": [
    "train_images[0].shape"
   ]
  },
  {
   "cell_type": "code",
   "execution_count": null,
   "metadata": {
    "collapsed": false
   },
   "outputs": [],
   "source": [
    "train(train_images, validation_images, test_images, test_labels, image_size=28*28)"
   ]
  },
  {
   "cell_type": "code",
   "execution_count": null,
   "metadata": {
    "collapsed": true
   },
   "outputs": [],
   "source": []
  }
 ],
 "metadata": {
  "anaconda-cloud": {},
  "kernelspec": {
   "display_name": "Environment (py3.6)",
   "language": "",
   "name": "py3.6"
  },
  "language_info": {
   "codemirror_mode": {
    "name": "ipython",
    "version": 3
   },
   "file_extension": ".py",
   "mimetype": "text/x-python",
   "name": "python",
   "nbconvert_exporter": "python",
   "pygments_lexer": "ipython3",
   "version": "3.6.0"
  }
 },
 "nbformat": 4,
 "nbformat_minor": 2
}
