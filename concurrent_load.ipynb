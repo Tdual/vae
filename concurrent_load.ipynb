{
 "cells": [
  {
   "cell_type": "code",
   "execution_count": 1,
   "metadata": {
    "collapsed": true
   },
   "outputs": [],
   "source": [
    "import tensorflow as tf\n",
    "import os\n",
    "import matplotlib.pyplot as plt\n",
    "import numpy as np\n",
    "import datetime\n",
    "from glob import glob\n",
    "import scipy\n",
    "import scipy.misc\n",
    "import pickle\n",
    "from tqdm import tqdm_notebook as tqdm\n",
    "%matplotlib inline  "
   ]
  },
  {
   "cell_type": "code",
   "execution_count": 2,
   "metadata": {
    "collapsed": false
   },
   "outputs": [
    {
     "name": "stdout",
     "output_type": "stream",
     "text": [
      "['./data/celebA/000002.jpg' './data/celebA/000003.jpg'\n",
      " './data/celebA/000004.jpg' './data/celebA/000005.jpg'\n",
      " './data/celebA/000006.jpg' './data/celebA/000007.jpg'\n",
      " './data/celebA/000008.jpg' './data/celebA/000009.jpg'\n",
      " './data/celebA/000010.jpg' './data/celebA/000011.jpg']\n",
      "num of data:  202569\n"
     ]
    }
   ],
   "source": [
    "data = glob(os.path.join(\"./data/celebA\", \"*.jpg\"))\n",
    "data = np.sort(data)\n",
    "print(data[0:10])\n",
    "print(\"num of data: \", len(data))"
   ]
  },
  {
   "cell_type": "code",
   "execution_count": 6,
   "metadata": {
    "collapsed": false
   },
   "outputs": [
    {
     "name": "stdout",
     "output_type": "stream",
     "text": [
      "CPU times: user 7.62 s, sys: 49.7 s, total: 57.3 s\n",
      "Wall time: 56.7 s\n"
     ]
    }
   ],
   "source": [
    "%%time\n",
    "image_batch_size = 1000\n",
    "n_image_batches = 1 + len(data) // image_batch_size\n",
    "\n",
    "from concurrent.futures import ThreadPoolExecutor, as_completed\n",
    "\n",
    "def load_pickel(i):\n",
    "    file_name = \"./pickle/images_{}.pickle\".format(i)\n",
    "    with open(file_name, mode='rb') as f:\n",
    "        return pickle.load(f)\n",
    "    \n",
    "\n",
    "worker_num = 5\n",
    "task_num = n_image_batches\n",
    "with ThreadPoolExecutor(worker_num) as executor:\n",
    "    futures = []\n",
    "    for i in range(n_image_batches):\n",
    "        futures.append(executor.submit(load_pickel, i))\n",
    "images_list = [x.result() for x in as_completed(futures)]"
   ]
  },
  {
   "cell_type": "code",
   "execution_count": 4,
   "metadata": {
    "collapsed": false
   },
   "outputs": [
    {
     "name": "stdout",
     "output_type": "stream",
     "text": [
      "\n",
      "CPU times: user 6.85 s, sys: 28.4 s, total: 35.3 s\n",
      "Wall time: 50.8 s\n"
     ]
    }
   ],
   "source": [
    "%%time\n",
    "image_batch_size = 1000\n",
    "n_image_batches = 1 + len(data) // image_batch_size\n",
    "images_list = []\n",
    "for i in tqdm(range(n_image_batches)):\n",
    "    file_name = \"./pickle/images_{}.pickle\".format(i)\n",
    "    with open(file_name, mode='rb') as f:\n",
    "        images_list.append(pickle.load(f))"
   ]
  },
  {
   "cell_type": "code",
   "execution_count": null,
   "metadata": {
    "collapsed": true
   },
   "outputs": [],
   "source": []
  }
 ],
 "metadata": {
  "kernelspec": {
   "display_name": "Environment (py3.6)",
   "language": "",
   "name": "py3.6"
  },
  "language_info": {
   "codemirror_mode": {
    "name": "ipython",
    "version": 3
   },
   "file_extension": ".py",
   "mimetype": "text/x-python",
   "name": "python",
   "nbconvert_exporter": "python",
   "pygments_lexer": "ipython3",
   "version": "3.6.0"
  },
  "widgets": {
   "state": {
    "45c869542b334d1f86fff52b461c19ab": {
     "views": [
      {
       "cell_index": 3
      }
     ]
    }
   },
   "version": "1.2.0"
  }
 },
 "nbformat": 4,
 "nbformat_minor": 2
}
