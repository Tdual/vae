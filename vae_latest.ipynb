{
 "cells": [
  {
   "cell_type": "code",
   "execution_count": 1,
   "metadata": {},
   "outputs": [],
   "source": [
    "import numpy as np\n",
    "import matplotlib.pyplot as plt\n",
    "import tensorflow as tf\n",
    "from tensorflow.examples.tutorials.mnist import input_data\n",
    "import bhtsne\n",
    "import tensorflow_probability as tfp\n",
    "%matplotlib inline"
   ]
  },
  {
   "cell_type": "code",
   "execution_count": 2,
   "metadata": {},
   "outputs": [],
   "source": [
    "tfd = tfp.distributions"
   ]
  },
  {
   "cell_type": "code",
   "execution_count": 3,
   "metadata": {},
   "outputs": [],
   "source": [
    "def make_encoder(data, code_size):\n",
    "    x = tf.layers.flatten(data)\n",
    "    x = tf.layers.dense(x, 800, tf.nn.relu)\n",
    "    x = tf.layers.dense(x, 800, tf.nn.relu)\n",
    "    loc = tf.layers.dense(x, code_size)\n",
    "    scale = tf.layers.dense(x, code_size, tf.nn.softplus)\n",
    "    return tfd.MultivariateNormalDiag(loc, scale), loc, scale\n",
    "\n",
    "\n",
    "def make_prior(code_size):\n",
    "    loc = tf.zeros(code_size)\n",
    "    scale = tf.ones(code_size)\n",
    "    return tfd.MultivariateNormalDiag(loc, scale)\n",
    "\n",
    "\n",
    "def make_decoder(code, data_shape):\n",
    "    x = code\n",
    "    x = tf.layers.dense(x, 800, tf.nn.relu)\n",
    "    x = tf.layers.dense(x, 800, tf.nn.relu)\n",
    "    logit = tf.layers.dense(x, np.prod(data_shape))\n",
    "    logit = tf.reshape(logit, [-1] + data_shape)\n",
    "    return tfd.Independent(tfd.Bernoulli(logit), 2)\n",
    "\n",
    "\n",
    "def plot_codes(ax, codes, labels):\n",
    "    ax.scatter(codes[:, 0], codes[:, 1], s=50, c=labels, alpha=0.9)#,cmap='Blues', )\n",
    "    ax.set_aspect('equal')\n",
    "    ax.set_xlim(codes.min() - .1, codes.max() + .1)\n",
    "    ax.set_ylim(codes.min() - .1, codes.max() + .1)\n",
    "    ax.tick_params(axis='both', which='both', left='off', bottom='off', labelleft='off', labelbottom='off')\n",
    "\n",
    "\n",
    "def plot_samples(ax, samples):\n",
    "    for index, sample in enumerate(samples):\n",
    "        ax[index].imshow(sample, cmap='gray')\n",
    "        ax[index].axis('off')"
   ]
  },
  {
   "cell_type": "code",
   "execution_count": 4,
   "metadata": {},
   "outputs": [],
   "source": [
    "data = tf.placeholder(tf.float32, [None, 28, 28])\n",
    "\n",
    "make_encoder = tf.make_template('encoder', make_encoder)\n",
    "make_decoder = tf.make_template('decoder', make_decoder)"
   ]
  },
  {
   "cell_type": "code",
   "execution_count": 5,
   "metadata": {},
   "outputs": [],
   "source": [
    "# Define the model.\n",
    "dim = 50\n",
    "prior = make_prior(code_size=dim)\n",
    "posterior,  loc, scale= make_encoder(data, code_size=dim)\n",
    "code = posterior.sample()"
   ]
  },
  {
   "cell_type": "code",
   "execution_count": 6,
   "metadata": {},
   "outputs": [],
   "source": [
    "# Define the loss.\n",
    "likelihood = make_decoder(code, [28, 28]).log_prob(data)\n",
    "divergence = tfd.kl_divergence(posterior, prior)\n",
    "elbo = tf.reduce_mean(likelihood - divergence)\n",
    "optimize = tf.train.AdamOptimizer(0.001).minimize(-elbo)"
   ]
  },
  {
   "cell_type": "code",
   "execution_count": 7,
   "metadata": {},
   "outputs": [],
   "source": [
    "samples = make_decoder(prior.sample(10), [28, 28]).mean()"
   ]
  },
  {
   "cell_type": "code",
   "execution_count": 8,
   "metadata": {},
   "outputs": [
    {
     "name": "stdout",
     "output_type": "stream",
     "text": [
      "WARNING:tensorflow:From <ipython-input-8-0a42e23024af>:1: read_data_sets (from tensorflow.contrib.learn.python.learn.datasets.mnist) is deprecated and will be removed in a future version.\n",
      "Instructions for updating:\n",
      "Please use alternatives such as official/mnist/dataset.py from tensorflow/models.\n",
      "WARNING:tensorflow:From /Users/tamoto.yoshifumi/anaconda2/envs/py36/lib/python3.6/site-packages/tensorflow/contrib/learn/python/learn/datasets/mnist.py:260: maybe_download (from tensorflow.contrib.learn.python.learn.datasets.base) is deprecated and will be removed in a future version.\n",
      "Instructions for updating:\n",
      "Please write your own downloading logic.\n",
      "WARNING:tensorflow:From /Users/tamoto.yoshifumi/anaconda2/envs/py36/lib/python3.6/site-packages/tensorflow/contrib/learn/python/learn/datasets/mnist.py:262: extract_images (from tensorflow.contrib.learn.python.learn.datasets.mnist) is deprecated and will be removed in a future version.\n",
      "Instructions for updating:\n",
      "Please use tf.data to implement this functionality.\n",
      "Extracting MNIST_data/train-images-idx3-ubyte.gz\n",
      "WARNING:tensorflow:From /Users/tamoto.yoshifumi/anaconda2/envs/py36/lib/python3.6/site-packages/tensorflow/contrib/learn/python/learn/datasets/mnist.py:267: extract_labels (from tensorflow.contrib.learn.python.learn.datasets.mnist) is deprecated and will be removed in a future version.\n",
      "Instructions for updating:\n",
      "Please use tf.data to implement this functionality.\n",
      "Extracting MNIST_data/train-labels-idx1-ubyte.gz\n",
      "Extracting MNIST_data/t10k-images-idx3-ubyte.gz\n",
      "Extracting MNIST_data/t10k-labels-idx1-ubyte.gz\n",
      "WARNING:tensorflow:From /Users/tamoto.yoshifumi/anaconda2/envs/py36/lib/python3.6/site-packages/tensorflow/contrib/learn/python/learn/datasets/mnist.py:290: DataSet.__init__ (from tensorflow.contrib.learn.python.learn.datasets.mnist) is deprecated and will be removed in a future version.\n",
      "Instructions for updating:\n",
      "Please use alternatives such as official/mnist/dataset.py from tensorflow/models.\n"
     ]
    }
   ],
   "source": [
    "mnist = input_data.read_data_sets('MNIST_data/')"
   ]
  },
  {
   "cell_type": "code",
   "execution_count": 9,
   "metadata": {},
   "outputs": [
    {
     "name": "stdout",
     "output_type": "stream",
     "text": [
      "1135\n",
      "958\n",
      "1009\n"
     ]
    }
   ],
   "source": [
    "images_1 = []\n",
    "labels_1 = []\n",
    "images_6 = []\n",
    "labels_6 = []\n",
    "images_9 = []\n",
    "labels_9 = []\n",
    "\n",
    "for l, img in zip(mnist.test.labels, mnist.test.images):\n",
    "    if l == 1:\n",
    "        images_1.append(img)\n",
    "        labels_1.append(l)\n",
    "    elif l == 6:\n",
    "        images_6.append(img)\n",
    "        labels_6.append(l)\n",
    "    elif l == 9:\n",
    "        images_9.append(img)\n",
    "        labels_9.append(l)\n",
    "\n",
    "        \n",
    "#mnist.test.labels[:10]\n",
    "#mnist.test.images\n",
    "print(len(images_1))\n",
    "print(len(images_6))\n",
    "print(len(images_9))"
   ]
  },
  {
   "cell_type": "code",
   "execution_count": 10,
   "metadata": {},
   "outputs": [],
   "source": [
    "images = images_1 +  images_6[:10] #+  images_9[:5]\n",
    "labels = labels_1 +  labels_6[:10] #+  labels_9[:5]"
   ]
  },
  {
   "cell_type": "code",
   "execution_count": 11,
   "metadata": {},
   "outputs": [],
   "source": [
    "images = np.array(images).reshape([-1, 28, 28])\n",
    "labels = np.array(labels)"
   ]
  },
  {
   "cell_type": "code",
   "execution_count": 12,
   "metadata": {},
   "outputs": [
    {
     "data": {
      "text/plain": [
       "(1145, 28, 28)"
      ]
     },
     "execution_count": 12,
     "metadata": {},
     "output_type": "execute_result"
    }
   ],
   "source": [
    "images.shape"
   ]
  },
  {
   "cell_type": "code",
   "execution_count": 13,
   "metadata": {},
   "outputs": [
    {
     "data": {
      "text/plain": [
       "(1145,)"
      ]
     },
     "execution_count": 13,
     "metadata": {},
     "output_type": "execute_result"
    }
   ],
   "source": [
    "labels.shape"
   ]
  },
  {
   "cell_type": "code",
   "execution_count": null,
   "metadata": {
    "scrolled": false
   },
   "outputs": [
    {
     "name": "stdout",
     "output_type": "stream",
     "text": [
      "INFO:tensorflow:Graph was finalized.\n",
      "INFO:tensorflow:Running local_init_op.\n",
      "INFO:tensorflow:Done running local_init_op.\n",
      "loc: 0.012498946860432625\n",
      "scale: 0.6896008253097534\n",
      "Epoch 0 elbo -551.40436\n",
      "loc: -0.003176250960677862\n",
      "scale: 0.9218965768814087\n",
      "Epoch 1 elbo -54.2194\n"
     ]
    }
   ],
   "source": [
    "n_iter = 20\n",
    "fig, ax = plt.subplots(nrows=1, ncols=1, figsize=(8, 10))\n",
    "#fig, ax = plt.subplots(nrows=20, ncols=11, figsize=(10, 20))\n",
    "with tf.train.MonitoredSession() as sess:\n",
    "    for epoch in range(n_iter):\n",
    "        #feed = {data: mnist.test.images.reshape([-1, 28, 28])}\n",
    "        feed = {data: images}\n",
    "        test_elbo,  test_loc, test_scale, test_codes, test_samples = sess.run([elbo, loc, scale, code, samples], feed)\n",
    "        #print(test_codes[0])\n",
    "        print(\"loc: {}\".format(np.mean(test_loc)))\n",
    "        print(\"scale: {}\".format(np.mean(test_scale)))\n",
    "        print('Epoch', epoch, 'elbo', test_elbo)\n",
    "        if epoch == n_iter -1: \n",
    "            ax.set_ylabel('Epoch {}'.format(epoch))\n",
    "            #ax[epoch, 0].set_ylabel('Epoch {}'.format(epoch))\n",
    "            vecs_2d = bhtsne.tsne(test_codes.astype(np.float64), dimensions=2, perplexity=5.0, theta=0.5, rand_seed=-1)\n",
    "            plot_codes(ax, test_codes,  labels)#mnist.test.labels)\n",
    "            #plot_codes(ax, test_codes,  labels)#mnist.test.labels)\n",
    "            #plot_samples(ax[epoch, 1:], test_samples)\n",
    "        for _ in range(3000):\n",
    "            t = mnist.train.next_batch(100)\n",
    "            batch = []\n",
    "            for l,img in zip(t[1],t[0]):\n",
    "                if l == 1:\n",
    "                    batch.append(img)\n",
    "            batch = np.array(batch).reshape([-1, 28, 28])\n",
    "            #print(batch.shape)\n",
    "            if len(batch) > 0:\n",
    "                feed = {data: batch}\n",
    "                #feed = {data: mnist.train.next_batch(100)[0].reshape([-1, 28, 28])}\n",
    "                sess.run(optimize, feed)\n",
    "        \n",
    "    plt.savefig('vae-mnist.png', dpi=300, transparent=True, bbox_inches='tight')\n",
    "    plt.show()"
   ]
  },
  {
   "cell_type": "code",
   "execution_count": null,
   "metadata": {},
   "outputs": [],
   "source": []
  },
  {
   "cell_type": "code",
   "execution_count": null,
   "metadata": {},
   "outputs": [],
   "source": []
  }
 ],
 "metadata": {
  "kernelspec": {
   "display_name": "Environment (conda_py36)",
   "language": "python",
   "name": "conda_py36"
  },
  "language_info": {
   "codemirror_mode": {
    "name": "ipython",
    "version": 3
   },
   "file_extension": ".py",
   "mimetype": "text/x-python",
   "name": "python",
   "nbconvert_exporter": "python",
   "pygments_lexer": "ipython3",
   "version": "3.6.3"
  }
 },
 "nbformat": 4,
 "nbformat_minor": 2
}
