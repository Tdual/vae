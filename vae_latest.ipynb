{
 "cells": [
  {
   "cell_type": "code",
   "execution_count": 1,
   "metadata": {},
   "outputs": [],
   "source": [
    "import numpy as np\n",
    "import matplotlib.pyplot as plt\n",
    "import tensorflow as tf\n",
    "from tensorflow.examples.tutorials.mnist import input_data\n",
    "%matplotlib inline"
   ]
  },
  {
   "cell_type": "code",
   "execution_count": 2,
   "metadata": {},
   "outputs": [],
   "source": [
    "tfd = tf.contrib.distributions"
   ]
  },
  {
   "cell_type": "code",
   "execution_count": 3,
   "metadata": {},
   "outputs": [],
   "source": [
    "def make_encoder(data, code_size):\n",
    "    x = tf.layers.flatten(data)\n",
    "    x = tf.layers.dense(x, 200, tf.nn.relu)\n",
    "    x = tf.layers.dense(x, 200, tf.nn.relu)\n",
    "    loc = tf.layers.dense(x, code_size)\n",
    "    scale = tf.layers.dense(x, code_size, tf.nn.softplus)\n",
    "    return tfd.MultivariateNormalDiag(loc, scale)\n",
    "\n",
    "\n",
    "def make_prior(code_size):\n",
    "    loc = tf.zeros(code_size)\n",
    "    scale = tf.ones(code_size)\n",
    "    return tfd.MultivariateNormalDiag(loc, scale)\n",
    "\n",
    "\n",
    "def make_decoder(code, data_shape):\n",
    "    x = code\n",
    "    x = tf.layers.dense(x, 200, tf.nn.relu)\n",
    "    x = tf.layers.dense(x, 200, tf.nn.relu)\n",
    "    logit = tf.layers.dense(x, np.prod(data_shape))\n",
    "    logit = tf.reshape(logit, [-1] + data_shape)\n",
    "    return tfd.Independent(tfd.Bernoulli(logit), 2)\n",
    "\n",
    "\n",
    "def plot_codes(ax, codes, labels):\n",
    "    ax.scatter(codes[:, 0], codes[:, 1], s=50, c=labels, alpha=0.9)#,cmap='Blues', )\n",
    "    ax.set_aspect('equal')\n",
    "    ax.set_xlim(codes.min() - .1, codes.max() + .1)\n",
    "    ax.set_ylim(codes.min() - .1, codes.max() + .1)\n",
    "    ax.tick_params(\n",
    "        axis='both', which='both', left='off', bottom='off',\n",
    "        labelleft='off', labelbottom='off')\n",
    "\n",
    "\n",
    "def plot_samples(ax, samples):\n",
    "    for index, sample in enumerate(samples):\n",
    "        ax[index].imshow(sample, cmap='gray')\n",
    "        ax[index].axis('off')"
   ]
  },
  {
   "cell_type": "code",
   "execution_count": 4,
   "metadata": {},
   "outputs": [
    {
     "name": "stdout",
     "output_type": "stream",
     "text": [
      "WARNING:tensorflow:From <ipython-input-3-92f59c0990bb>:13: MultivariateNormalDiag.__init__ (from tensorflow.contrib.distributions.python.ops.mvn_diag) is deprecated and will be removed after 2018-10-01.\n",
      "Instructions for updating:\n",
      "The TensorFlow Distributions library has moved to TensorFlow Probability (https://github.com/tensorflow/probability). You should update all references to use `tfp.distributions` instead of `tf.contrib.distributions`.\n",
      "WARNING:tensorflow:From /Users/tdual/anaconda2/envs/py3.6/lib/python3.6/site-packages/tensorflow/contrib/distributions/python/ops/mvn_diag.py:223: MultivariateNormalLinearOperator.__init__ (from tensorflow.contrib.distributions.python.ops.mvn_linear_operator) is deprecated and will be removed after 2018-10-01.\n",
      "Instructions for updating:\n",
      "The TensorFlow Distributions library has moved to TensorFlow Probability (https://github.com/tensorflow/probability). You should update all references to use `tfp.distributions` instead of `tf.contrib.distributions`.\n",
      "WARNING:tensorflow:From /Users/tdual/anaconda2/envs/py3.6/lib/python3.6/site-packages/tensorflow/contrib/distributions/python/ops/mvn_linear_operator.py:200: AffineLinearOperator.__init__ (from tensorflow.contrib.distributions.python.ops.bijectors.affine_linear_operator) is deprecated and will be removed after 2018-10-01.\n",
      "Instructions for updating:\n",
      "The TensorFlow Distributions library has moved to TensorFlow Probability (https://github.com/tensorflow/probability). You should update all references to use `tfp.distributions` instead of `tf.contrib.distributions`.\n",
      "WARNING:tensorflow:From /Users/tdual/anaconda2/envs/py3.6/lib/python3.6/site-packages/tensorflow/contrib/distributions/python/ops/bijectors/affine_linear_operator.py:158: _DistributionShape.__init__ (from tensorflow.contrib.distributions.python.ops.shape) is deprecated and will be removed after 2018-10-01.\n",
      "Instructions for updating:\n",
      "The TensorFlow Distributions library has moved to TensorFlow Probability (https://github.com/tensorflow/probability). You should update all references to use `tfp.distributions` instead of `tf.contrib.distributions`.\n",
      "WARNING:tensorflow:From <ipython-input-3-92f59c0990bb>:22: Independent.__init__ (from tensorflow.contrib.distributions.python.ops.independent) is deprecated and will be removed after 2018-10-01.\n",
      "Instructions for updating:\n",
      "The TensorFlow Distributions library has moved to TensorFlow Probability (https://github.com/tensorflow/probability). You should update all references to use `tfp.distributions` instead of `tf.contrib.distributions`.\n",
      "WARNING:tensorflow:From /Users/tdual/anaconda2/envs/py3.6/lib/python3.6/site-packages/tensorflow/python/ops/distributions/kullback_leibler.py:98: _kl_brute_force (from tensorflow.contrib.distributions.python.ops.mvn_linear_operator) is deprecated and will be removed after 2018-10-01.\n",
      "Instructions for updating:\n",
      "The TensorFlow Distributions library has moved to TensorFlow Probability (https://github.com/tensorflow/probability). You should update all references to use `tfp.distributions` instead of `tf.contrib.distributions`.\n"
     ]
    }
   ],
   "source": [
    "data = tf.placeholder(tf.float32, [None, 28, 28])\n",
    "\n",
    "make_encoder = tf.make_template('encoder', make_encoder)\n",
    "make_decoder = tf.make_template('decoder', make_decoder)\n",
    "\n",
    "# Define the model.\n",
    "prior = make_prior(code_size=2)\n",
    "posterior = make_encoder(data, code_size=2)\n",
    "code = posterior.sample()\n",
    "\n",
    "# Define the loss.\n",
    "likelihood = make_decoder(code, [28, 28]).log_prob(data)\n",
    "divergence = tfd.kl_divergence(posterior, prior)\n",
    "elbo = tf.reduce_mean(likelihood - divergence)\n",
    "optimize = tf.train.AdamOptimizer(0.0001).minimize(-elbo)\n",
    "\n",
    "samples = make_decoder(prior.sample(10), [28, 28]).mean()"
   ]
  },
  {
   "cell_type": "code",
   "execution_count": 5,
   "metadata": {},
   "outputs": [
    {
     "name": "stdout",
     "output_type": "stream",
     "text": [
      "WARNING:tensorflow:From <ipython-input-5-0a42e23024af>:1: read_data_sets (from tensorflow.contrib.learn.python.learn.datasets.mnist) is deprecated and will be removed in a future version.\n",
      "Instructions for updating:\n",
      "Please use alternatives such as official/mnist/dataset.py from tensorflow/models.\n",
      "WARNING:tensorflow:From /Users/tdual/anaconda2/envs/py3.6/lib/python3.6/site-packages/tensorflow/contrib/learn/python/learn/datasets/mnist.py:260: maybe_download (from tensorflow.contrib.learn.python.learn.datasets.base) is deprecated and will be removed in a future version.\n",
      "Instructions for updating:\n",
      "Please write your own downloading logic.\n",
      "WARNING:tensorflow:From /Users/tdual/anaconda2/envs/py3.6/lib/python3.6/site-packages/tensorflow/contrib/learn/python/learn/datasets/mnist.py:262: extract_images (from tensorflow.contrib.learn.python.learn.datasets.mnist) is deprecated and will be removed in a future version.\n",
      "Instructions for updating:\n",
      "Please use tf.data to implement this functionality.\n",
      "Extracting MNIST_data/train-images-idx3-ubyte.gz\n",
      "WARNING:tensorflow:From /Users/tdual/anaconda2/envs/py3.6/lib/python3.6/site-packages/tensorflow/contrib/learn/python/learn/datasets/mnist.py:267: extract_labels (from tensorflow.contrib.learn.python.learn.datasets.mnist) is deprecated and will be removed in a future version.\n",
      "Instructions for updating:\n",
      "Please use tf.data to implement this functionality.\n",
      "Extracting MNIST_data/train-labels-idx1-ubyte.gz\n",
      "Extracting MNIST_data/t10k-images-idx3-ubyte.gz\n",
      "Extracting MNIST_data/t10k-labels-idx1-ubyte.gz\n",
      "WARNING:tensorflow:From /Users/tdual/anaconda2/envs/py3.6/lib/python3.6/site-packages/tensorflow/contrib/learn/python/learn/datasets/mnist.py:290: DataSet.__init__ (from tensorflow.contrib.learn.python.learn.datasets.mnist) is deprecated and will be removed in a future version.\n",
      "Instructions for updating:\n",
      "Please use alternatives such as official/mnist/dataset.py from tensorflow/models.\n"
     ]
    }
   ],
   "source": [
    "mnist = input_data.read_data_sets('MNIST_data/')"
   ]
  },
  {
   "cell_type": "code",
   "execution_count": 6,
   "metadata": {},
   "outputs": [
    {
     "name": "stdout",
     "output_type": "stream",
     "text": [
      "980\n",
      "958\n",
      "1009\n"
     ]
    }
   ],
   "source": [
    "images_0 = []\n",
    "labels_0 = []\n",
    "images_6 = []\n",
    "labels_6 = []\n",
    "images_9 = []\n",
    "labels_9 = []\n",
    "\n",
    "for l, img in zip(mnist.test.labels, mnist.test.images):\n",
    "    if l == 0:\n",
    "        images_0.append(img)\n",
    "        labels_0.append(l)\n",
    "    elif l == 6:\n",
    "        images_6.append(img)\n",
    "        labels_6.append(l)\n",
    "    elif l == 9:\n",
    "        images_9.append(img)\n",
    "        labels_9.append(l)\n",
    "\n",
    "        \n",
    "#mnist.test.labels[:10]\n",
    "#mnist.test.images\n",
    "print(len(images_0))\n",
    "print(len(images_6))\n",
    "print(len(images_9))"
   ]
  },
  {
   "cell_type": "code",
   "execution_count": 7,
   "metadata": {},
   "outputs": [],
   "source": [
    "images = images_0 +  images_6[:5] +  images_9[:5]\n",
    "labels = labels_0 +  labels_6[:5] +  labels_9[:5]"
   ]
  },
  {
   "cell_type": "code",
   "execution_count": 8,
   "metadata": {},
   "outputs": [],
   "source": [
    "images = np.array(images).reshape([-1, 28, 28])\n",
    "labels = np.array(labels)"
   ]
  },
  {
   "cell_type": "code",
   "execution_count": 9,
   "metadata": {},
   "outputs": [
    {
     "data": {
      "text/plain": [
       "(990, 28, 28)"
      ]
     },
     "execution_count": 9,
     "metadata": {},
     "output_type": "execute_result"
    }
   ],
   "source": [
    "images.shape"
   ]
  },
  {
   "cell_type": "code",
   "execution_count": null,
   "metadata": {},
   "outputs": [
    {
     "data": {
      "text/plain": [
       "(990,)"
      ]
     },
     "execution_count": 10,
     "metadata": {},
     "output_type": "execute_result"
    }
   ],
   "source": [
    "labels.shape"
   ]
  },
  {
   "cell_type": "code",
   "execution_count": null,
   "metadata": {
    "scrolled": false
   },
   "outputs": [
    {
     "name": "stdout",
     "output_type": "stream",
     "text": [
      "INFO:tensorflow:Graph was finalized.\n",
      "INFO:tensorflow:Running local_init_op.\n",
      "INFO:tensorflow:Done running local_init_op.\n",
      "Epoch 0 elbo -544.0107\n",
      "Epoch 1 elbo -203.68378\n",
      "Epoch 2 elbo -182.09755\n",
      "Epoch 3 elbo -177.69807\n",
      "Epoch 4 elbo -175.13925\n",
      "Epoch 5 elbo -172.52234\n",
      "Epoch 6 elbo -166.5124\n",
      "Epoch 7 elbo -161.72786\n",
      "Epoch 8 elbo -160.40062\n",
      "Epoch 9 elbo -159.50879\n",
      "Epoch 10 elbo -158.41739\n",
      "Epoch 11 elbo -157.70206\n",
      "Epoch 12 elbo -157.08308\n",
      "Epoch 13 elbo -156.54768\n"
     ]
    }
   ],
   "source": [
    "n_iter = 100\n",
    "fig, ax = plt.subplots(nrows=1, ncols=1, figsize=(8, 10))\n",
    "#fig, ax = plt.subplots(nrows=20, ncols=11, figsize=(10, 20))\n",
    "with tf.train.MonitoredSession() as sess:\n",
    "    for epoch in range(n_iter):\n",
    "        #feed = {data: mnist.test.images.reshape([-1, 28, 28])}\n",
    "        feed = {data: images}\n",
    "        test_elbo, test_codes, test_samples = sess.run([elbo, code, samples], feed)\n",
    "        #print( test_codes[0])\n",
    "        print('Epoch', epoch, 'elbo', test_elbo)\n",
    "        if epoch == n_iter -1: \n",
    "            ax.set_ylabel('Epoch {}'.format(epoch))\n",
    "            #ax[epoch, 0].set_ylabel('Epoch {}'.format(epoch))\n",
    "       \n",
    "            plot_codes(ax, test_codes,  labels)#mnist.test.labels)\n",
    "            plot_codes(ax, test_codes,  labels)#mnist.test.labels)\n",
    "            #plot_samples(ax[epoch, 1:], test_samples)\n",
    "        for _ in range(600):\n",
    "            t = mnist.train.next_batch(100)\n",
    "            batch = []\n",
    "            for l,img in zip(t[1],t[0]):\n",
    "                if l == 0:\n",
    "                    batch.append(img)\n",
    "            batch = np.array(batch).reshape([-1, 28, 28])\n",
    "            #print(batch.shape)\n",
    "            if len(batch) > 0:\n",
    "                feed = {data: batch}\n",
    "                #feed = {data: mnist.train.next_batch(100)[0].reshape([-1, 28, 28])}\n",
    "                sess.run(optimize, feed)\n",
    "    plt.savefig('vae-mnist.png', dpi=300, transparent=True, bbox_inches='tight')\n",
    "    plt.show()"
   ]
  },
  {
   "cell_type": "code",
   "execution_count": null,
   "metadata": {},
   "outputs": [],
   "source": []
  }
 ],
 "metadata": {
  "kernelspec": {
   "display_name": "Environment (conda_py3.6)",
   "language": "python",
   "name": "conda_py3.6"
  },
  "language_info": {
   "codemirror_mode": {
    "name": "ipython",
    "version": 3
   },
   "file_extension": ".py",
   "mimetype": "text/x-python",
   "name": "python",
   "nbconvert_exporter": "python",
   "pygments_lexer": "ipython3",
   "version": "3.6.4"
  }
 },
 "nbformat": 4,
 "nbformat_minor": 2
}
